{
 "cells": [
  {
   "cell_type": "code",
   "execution_count": 99,
   "metadata": {
    "execution": {
     "iopub.execute_input": "2021-07-08T12:46:45.105447Z",
     "iopub.status.busy": "2021-07-08T12:46:45.104707Z",
     "iopub.status.idle": "2021-07-08T12:46:45.930741Z",
     "shell.execute_reply": "2021-07-08T12:46:45.929472Z",
     "shell.execute_reply.started": "2021-07-08T12:46:01.025025Z"
    },
    "papermill": {
     "duration": 0.918714,
     "end_time": "2021-07-08T12:46:45.930904",
     "exception": false,
     "start_time": "2021-07-08T12:46:45.012190",
     "status": "completed"
    },
    "tags": []
   },
   "outputs": [],
   "source": [
    "import numpy as np\n",
    "import pandas as pd\n",
    "import matplotlib.pyplot as plt\n",
    "import seaborn as sns\n"
   ]
  },
  {
   "cell_type": "code",
   "execution_count": 100,
   "metadata": {
    "execution": {
     "iopub.execute_input": "2021-07-08T12:46:46.290479Z",
     "iopub.status.busy": "2021-07-08T12:46:46.289792Z",
     "iopub.status.idle": "2021-07-08T12:46:46.292395Z",
     "shell.execute_reply": "2021-07-08T12:46:46.291768Z",
     "shell.execute_reply.started": "2021-07-08T12:46:01.040370Z"
    },
    "papermill": {
     "duration": 0.094854,
     "end_time": "2021-07-08T12:46:46.292529",
     "exception": false,
     "start_time": "2021-07-08T12:46:46.197675",
     "status": "completed"
    },
    "tags": []
   },
   "outputs": [],
   "source": [
    "def null(df, feature, plot=False):\n",
    "    t = df[feature].isna().mean() * 100\n",
    "    print(f'% of null --> {t}')\n",
    "    if plot:\n",
    "        sns.countplot(dataset[feature], palette='cool')"
   ]
  },
  {
   "cell_type": "code",
   "execution_count": null,
   "metadata": {
    "execution": {
     "iopub.execute_input": "2021-07-08T12:46:46.467913Z",
     "iopub.status.busy": "2021-07-08T12:46:46.467318Z",
     "iopub.status.idle": "2021-07-08T12:46:46.470483Z",
     "shell.execute_reply": "2021-07-08T12:46:46.471067Z",
     "shell.execute_reply.started": "2021-07-08T12:46:01.051632Z"
    },
    "papermill": {
     "duration": 0.092424,
     "end_time": "2021-07-08T12:46:46.471224",
     "exception": false,
     "start_time": "2021-07-08T12:46:46.378800",
     "status": "completed"
    },
    "tags": []
   },
   "outputs": [],
   "source": []
  },
  {
   "cell_type": "code",
   "execution_count": 101,
   "metadata": {
    "execution": {
     "iopub.execute_input": "2021-07-08T12:46:46.993544Z",
     "iopub.status.busy": "2021-07-08T12:46:46.992810Z",
     "iopub.status.idle": "2021-07-08T12:46:47.106065Z",
     "shell.execute_reply": "2021-07-08T12:46:47.106553Z",
     "shell.execute_reply.started": "2021-07-08T12:46:01.065616Z"
    },
    "papermill": {
     "duration": 0.204679,
     "end_time": "2021-07-08T12:46:47.106716",
     "exception": false,
     "start_time": "2021-07-08T12:46:46.902037",
     "status": "completed"
    },
    "tags": []
   },
   "outputs": [
    {
     "data": {
      "text/html": [
       "<div>\n",
       "<style scoped>\n",
       "    .dataframe tbody tr th:only-of-type {\n",
       "        vertical-align: middle;\n",
       "    }\n",
       "\n",
       "    .dataframe tbody tr th {\n",
       "        vertical-align: top;\n",
       "    }\n",
       "\n",
       "    .dataframe thead th {\n",
       "        text-align: right;\n",
       "    }\n",
       "</style>\n",
       "<table border=\"1\" class=\"dataframe\">\n",
       "  <thead>\n",
       "    <tr style=\"text-align: right;\">\n",
       "      <th></th>\n",
       "      <th>Id</th>\n",
       "      <th>MSSubClass</th>\n",
       "      <th>MSZoning</th>\n",
       "      <th>LotFrontage</th>\n",
       "      <th>LotArea</th>\n",
       "      <th>Street</th>\n",
       "      <th>Alley</th>\n",
       "      <th>LotShape</th>\n",
       "      <th>LandContour</th>\n",
       "      <th>Utilities</th>\n",
       "      <th>...</th>\n",
       "      <th>PoolArea</th>\n",
       "      <th>PoolQC</th>\n",
       "      <th>Fence</th>\n",
       "      <th>MiscFeature</th>\n",
       "      <th>MiscVal</th>\n",
       "      <th>MoSold</th>\n",
       "      <th>YrSold</th>\n",
       "      <th>SaleType</th>\n",
       "      <th>SaleCondition</th>\n",
       "      <th>SalePrice</th>\n",
       "    </tr>\n",
       "  </thead>\n",
       "  <tbody>\n",
       "    <tr>\n",
       "      <th>0</th>\n",
       "      <td>1</td>\n",
       "      <td>60</td>\n",
       "      <td>RL</td>\n",
       "      <td>65.0</td>\n",
       "      <td>8450</td>\n",
       "      <td>Pave</td>\n",
       "      <td>NaN</td>\n",
       "      <td>Reg</td>\n",
       "      <td>Lvl</td>\n",
       "      <td>AllPub</td>\n",
       "      <td>...</td>\n",
       "      <td>0</td>\n",
       "      <td>NaN</td>\n",
       "      <td>NaN</td>\n",
       "      <td>NaN</td>\n",
       "      <td>0</td>\n",
       "      <td>2</td>\n",
       "      <td>2008</td>\n",
       "      <td>WD</td>\n",
       "      <td>Normal</td>\n",
       "      <td>208500</td>\n",
       "    </tr>\n",
       "    <tr>\n",
       "      <th>1</th>\n",
       "      <td>2</td>\n",
       "      <td>20</td>\n",
       "      <td>RL</td>\n",
       "      <td>80.0</td>\n",
       "      <td>9600</td>\n",
       "      <td>Pave</td>\n",
       "      <td>NaN</td>\n",
       "      <td>Reg</td>\n",
       "      <td>Lvl</td>\n",
       "      <td>AllPub</td>\n",
       "      <td>...</td>\n",
       "      <td>0</td>\n",
       "      <td>NaN</td>\n",
       "      <td>NaN</td>\n",
       "      <td>NaN</td>\n",
       "      <td>0</td>\n",
       "      <td>5</td>\n",
       "      <td>2007</td>\n",
       "      <td>WD</td>\n",
       "      <td>Normal</td>\n",
       "      <td>181500</td>\n",
       "    </tr>\n",
       "    <tr>\n",
       "      <th>2</th>\n",
       "      <td>3</td>\n",
       "      <td>60</td>\n",
       "      <td>RL</td>\n",
       "      <td>68.0</td>\n",
       "      <td>11250</td>\n",
       "      <td>Pave</td>\n",
       "      <td>NaN</td>\n",
       "      <td>IR1</td>\n",
       "      <td>Lvl</td>\n",
       "      <td>AllPub</td>\n",
       "      <td>...</td>\n",
       "      <td>0</td>\n",
       "      <td>NaN</td>\n",
       "      <td>NaN</td>\n",
       "      <td>NaN</td>\n",
       "      <td>0</td>\n",
       "      <td>9</td>\n",
       "      <td>2008</td>\n",
       "      <td>WD</td>\n",
       "      <td>Normal</td>\n",
       "      <td>223500</td>\n",
       "    </tr>\n",
       "    <tr>\n",
       "      <th>3</th>\n",
       "      <td>4</td>\n",
       "      <td>70</td>\n",
       "      <td>RL</td>\n",
       "      <td>60.0</td>\n",
       "      <td>9550</td>\n",
       "      <td>Pave</td>\n",
       "      <td>NaN</td>\n",
       "      <td>IR1</td>\n",
       "      <td>Lvl</td>\n",
       "      <td>AllPub</td>\n",
       "      <td>...</td>\n",
       "      <td>0</td>\n",
       "      <td>NaN</td>\n",
       "      <td>NaN</td>\n",
       "      <td>NaN</td>\n",
       "      <td>0</td>\n",
       "      <td>2</td>\n",
       "      <td>2006</td>\n",
       "      <td>WD</td>\n",
       "      <td>Abnorml</td>\n",
       "      <td>140000</td>\n",
       "    </tr>\n",
       "    <tr>\n",
       "      <th>4</th>\n",
       "      <td>5</td>\n",
       "      <td>60</td>\n",
       "      <td>RL</td>\n",
       "      <td>84.0</td>\n",
       "      <td>14260</td>\n",
       "      <td>Pave</td>\n",
       "      <td>NaN</td>\n",
       "      <td>IR1</td>\n",
       "      <td>Lvl</td>\n",
       "      <td>AllPub</td>\n",
       "      <td>...</td>\n",
       "      <td>0</td>\n",
       "      <td>NaN</td>\n",
       "      <td>NaN</td>\n",
       "      <td>NaN</td>\n",
       "      <td>0</td>\n",
       "      <td>12</td>\n",
       "      <td>2008</td>\n",
       "      <td>WD</td>\n",
       "      <td>Normal</td>\n",
       "      <td>250000</td>\n",
       "    </tr>\n",
       "  </tbody>\n",
       "</table>\n",
       "<p>5 rows × 81 columns</p>\n",
       "</div>"
      ],
      "text/plain": [
       "   Id  MSSubClass MSZoning  LotFrontage  LotArea Street Alley LotShape  \\\n",
       "0   1          60       RL         65.0     8450   Pave   NaN      Reg   \n",
       "1   2          20       RL         80.0     9600   Pave   NaN      Reg   \n",
       "2   3          60       RL         68.0    11250   Pave   NaN      IR1   \n",
       "3   4          70       RL         60.0     9550   Pave   NaN      IR1   \n",
       "4   5          60       RL         84.0    14260   Pave   NaN      IR1   \n",
       "\n",
       "  LandContour Utilities  ... PoolArea PoolQC Fence MiscFeature MiscVal MoSold  \\\n",
       "0         Lvl    AllPub  ...        0    NaN   NaN         NaN       0      2   \n",
       "1         Lvl    AllPub  ...        0    NaN   NaN         NaN       0      5   \n",
       "2         Lvl    AllPub  ...        0    NaN   NaN         NaN       0      9   \n",
       "3         Lvl    AllPub  ...        0    NaN   NaN         NaN       0      2   \n",
       "4         Lvl    AllPub  ...        0    NaN   NaN         NaN       0     12   \n",
       "\n",
       "  YrSold  SaleType  SaleCondition  SalePrice  \n",
       "0   2008        WD         Normal     208500  \n",
       "1   2007        WD         Normal     181500  \n",
       "2   2008        WD         Normal     223500  \n",
       "3   2006        WD        Abnorml     140000  \n",
       "4   2008        WD         Normal     250000  \n",
       "\n",
       "[5 rows x 81 columns]"
      ]
     },
     "execution_count": 101,
     "metadata": {},
     "output_type": "execute_result"
    }
   ],
   "source": [
    "train_data = pd.read_csv(\"train.csv\")\n",
    "train_data.head()"
   ]
  },
  {
   "cell_type": "code",
   "execution_count": 102,
   "metadata": {
    "execution": {
     "iopub.execute_input": "2021-07-08T12:46:47.288143Z",
     "iopub.status.busy": "2021-07-08T12:46:47.287175Z",
     "iopub.status.idle": "2021-07-08T12:46:47.318116Z",
     "shell.execute_reply": "2021-07-08T12:46:47.318629Z",
     "shell.execute_reply.started": "2021-07-08T12:46:01.162261Z"
    },
    "papermill": {
     "duration": 0.122823,
     "end_time": "2021-07-08T12:46:47.318817",
     "exception": false,
     "start_time": "2021-07-08T12:46:47.195994",
     "status": "completed"
    },
    "tags": []
   },
   "outputs": [
    {
     "name": "stdout",
     "output_type": "stream",
     "text": [
      "<class 'pandas.core.frame.DataFrame'>\n",
      "RangeIndex: 1460 entries, 0 to 1459\n",
      "Data columns (total 81 columns):\n",
      "Id               1460 non-null int64\n",
      "MSSubClass       1460 non-null int64\n",
      "MSZoning         1460 non-null object\n",
      "LotFrontage      1201 non-null float64\n",
      "LotArea          1460 non-null int64\n",
      "Street           1460 non-null object\n",
      "Alley            91 non-null object\n",
      "LotShape         1460 non-null object\n",
      "LandContour      1460 non-null object\n",
      "Utilities        1460 non-null object\n",
      "LotConfig        1460 non-null object\n",
      "LandSlope        1460 non-null object\n",
      "Neighborhood     1460 non-null object\n",
      "Condition1       1460 non-null object\n",
      "Condition2       1460 non-null object\n",
      "BldgType         1460 non-null object\n",
      "HouseStyle       1460 non-null object\n",
      "OverallQual      1460 non-null int64\n",
      "OverallCond      1460 non-null int64\n",
      "YearBuilt        1460 non-null int64\n",
      "YearRemodAdd     1460 non-null int64\n",
      "RoofStyle        1460 non-null object\n",
      "RoofMatl         1460 non-null object\n",
      "Exterior1st      1460 non-null object\n",
      "Exterior2nd      1460 non-null object\n",
      "MasVnrType       1452 non-null object\n",
      "MasVnrArea       1452 non-null float64\n",
      "ExterQual        1460 non-null object\n",
      "ExterCond        1460 non-null object\n",
      "Foundation       1460 non-null object\n",
      "BsmtQual         1423 non-null object\n",
      "BsmtCond         1423 non-null object\n",
      "BsmtExposure     1422 non-null object\n",
      "BsmtFinType1     1423 non-null object\n",
      "BsmtFinSF1       1460 non-null int64\n",
      "BsmtFinType2     1422 non-null object\n",
      "BsmtFinSF2       1460 non-null int64\n",
      "BsmtUnfSF        1460 non-null int64\n",
      "TotalBsmtSF      1460 non-null int64\n",
      "Heating          1460 non-null object\n",
      "HeatingQC        1460 non-null object\n",
      "CentralAir       1460 non-null object\n",
      "Electrical       1459 non-null object\n",
      "1stFlrSF         1460 non-null int64\n",
      "2ndFlrSF         1460 non-null int64\n",
      "LowQualFinSF     1460 non-null int64\n",
      "GrLivArea        1460 non-null int64\n",
      "BsmtFullBath     1460 non-null int64\n",
      "BsmtHalfBath     1460 non-null int64\n",
      "FullBath         1460 non-null int64\n",
      "HalfBath         1460 non-null int64\n",
      "BedroomAbvGr     1460 non-null int64\n",
      "KitchenAbvGr     1460 non-null int64\n",
      "KitchenQual      1460 non-null object\n",
      "TotRmsAbvGrd     1460 non-null int64\n",
      "Functional       1460 non-null object\n",
      "Fireplaces       1460 non-null int64\n",
      "FireplaceQu      770 non-null object\n",
      "GarageType       1379 non-null object\n",
      "GarageYrBlt      1379 non-null float64\n",
      "GarageFinish     1379 non-null object\n",
      "GarageCars       1460 non-null int64\n",
      "GarageArea       1460 non-null int64\n",
      "GarageQual       1379 non-null object\n",
      "GarageCond       1379 non-null object\n",
      "PavedDrive       1460 non-null object\n",
      "WoodDeckSF       1460 non-null int64\n",
      "OpenPorchSF      1460 non-null int64\n",
      "EnclosedPorch    1460 non-null int64\n",
      "3SsnPorch        1460 non-null int64\n",
      "ScreenPorch      1460 non-null int64\n",
      "PoolArea         1460 non-null int64\n",
      "PoolQC           7 non-null object\n",
      "Fence            281 non-null object\n",
      "MiscFeature      54 non-null object\n",
      "MiscVal          1460 non-null int64\n",
      "MoSold           1460 non-null int64\n",
      "YrSold           1460 non-null int64\n",
      "SaleType         1460 non-null object\n",
      "SaleCondition    1460 non-null object\n",
      "SalePrice        1460 non-null int64\n",
      "dtypes: float64(3), int64(35), object(43)\n",
      "memory usage: 924.0+ KB\n"
     ]
    }
   ],
   "source": [
    "train_data.info()"
   ]
  },
  {
   "cell_type": "code",
   "execution_count": 103,
   "metadata": {
    "execution": {
     "iopub.execute_input": "2021-07-08T12:46:47.502168Z",
     "iopub.status.busy": "2021-07-08T12:46:47.501569Z",
     "iopub.status.idle": "2021-07-08T12:46:47.559727Z",
     "shell.execute_reply": "2021-07-08T12:46:47.560310Z",
     "shell.execute_reply.started": "2021-07-08T12:46:01.190689Z"
    },
    "papermill": {
     "duration": 0.151828,
     "end_time": "2021-07-08T12:46:47.560488",
     "exception": false,
     "start_time": "2021-07-08T12:46:47.408660",
     "status": "completed"
    },
    "tags": []
   },
   "outputs": [
    {
     "data": {
      "text/html": [
       "<div>\n",
       "<style scoped>\n",
       "    .dataframe tbody tr th:only-of-type {\n",
       "        vertical-align: middle;\n",
       "    }\n",
       "\n",
       "    .dataframe tbody tr th {\n",
       "        vertical-align: top;\n",
       "    }\n",
       "\n",
       "    .dataframe thead th {\n",
       "        text-align: right;\n",
       "    }\n",
       "</style>\n",
       "<table border=\"1\" class=\"dataframe\">\n",
       "  <thead>\n",
       "    <tr style=\"text-align: right;\">\n",
       "      <th></th>\n",
       "      <th>Id</th>\n",
       "      <th>MSSubClass</th>\n",
       "      <th>MSZoning</th>\n",
       "      <th>LotFrontage</th>\n",
       "      <th>LotArea</th>\n",
       "      <th>Street</th>\n",
       "      <th>Alley</th>\n",
       "      <th>LotShape</th>\n",
       "      <th>LandContour</th>\n",
       "      <th>Utilities</th>\n",
       "      <th>...</th>\n",
       "      <th>PoolArea</th>\n",
       "      <th>PoolQC</th>\n",
       "      <th>Fence</th>\n",
       "      <th>MiscFeature</th>\n",
       "      <th>MiscVal</th>\n",
       "      <th>MoSold</th>\n",
       "      <th>YrSold</th>\n",
       "      <th>SaleType</th>\n",
       "      <th>SaleCondition</th>\n",
       "      <th>SalePrice</th>\n",
       "    </tr>\n",
       "  </thead>\n",
       "  <tbody>\n",
       "    <tr>\n",
       "      <th>1455</th>\n",
       "      <td>1456</td>\n",
       "      <td>60</td>\n",
       "      <td>RL</td>\n",
       "      <td>62.0</td>\n",
       "      <td>7917</td>\n",
       "      <td>Pave</td>\n",
       "      <td>NaN</td>\n",
       "      <td>Reg</td>\n",
       "      <td>Lvl</td>\n",
       "      <td>AllPub</td>\n",
       "      <td>...</td>\n",
       "      <td>0</td>\n",
       "      <td>NaN</td>\n",
       "      <td>NaN</td>\n",
       "      <td>NaN</td>\n",
       "      <td>0</td>\n",
       "      <td>8</td>\n",
       "      <td>2007</td>\n",
       "      <td>WD</td>\n",
       "      <td>Normal</td>\n",
       "      <td>175000</td>\n",
       "    </tr>\n",
       "    <tr>\n",
       "      <th>1456</th>\n",
       "      <td>1457</td>\n",
       "      <td>20</td>\n",
       "      <td>RL</td>\n",
       "      <td>85.0</td>\n",
       "      <td>13175</td>\n",
       "      <td>Pave</td>\n",
       "      <td>NaN</td>\n",
       "      <td>Reg</td>\n",
       "      <td>Lvl</td>\n",
       "      <td>AllPub</td>\n",
       "      <td>...</td>\n",
       "      <td>0</td>\n",
       "      <td>NaN</td>\n",
       "      <td>MnPrv</td>\n",
       "      <td>NaN</td>\n",
       "      <td>0</td>\n",
       "      <td>2</td>\n",
       "      <td>2010</td>\n",
       "      <td>WD</td>\n",
       "      <td>Normal</td>\n",
       "      <td>210000</td>\n",
       "    </tr>\n",
       "    <tr>\n",
       "      <th>1457</th>\n",
       "      <td>1458</td>\n",
       "      <td>70</td>\n",
       "      <td>RL</td>\n",
       "      <td>66.0</td>\n",
       "      <td>9042</td>\n",
       "      <td>Pave</td>\n",
       "      <td>NaN</td>\n",
       "      <td>Reg</td>\n",
       "      <td>Lvl</td>\n",
       "      <td>AllPub</td>\n",
       "      <td>...</td>\n",
       "      <td>0</td>\n",
       "      <td>NaN</td>\n",
       "      <td>GdPrv</td>\n",
       "      <td>Shed</td>\n",
       "      <td>2500</td>\n",
       "      <td>5</td>\n",
       "      <td>2010</td>\n",
       "      <td>WD</td>\n",
       "      <td>Normal</td>\n",
       "      <td>266500</td>\n",
       "    </tr>\n",
       "    <tr>\n",
       "      <th>1458</th>\n",
       "      <td>1459</td>\n",
       "      <td>20</td>\n",
       "      <td>RL</td>\n",
       "      <td>68.0</td>\n",
       "      <td>9717</td>\n",
       "      <td>Pave</td>\n",
       "      <td>NaN</td>\n",
       "      <td>Reg</td>\n",
       "      <td>Lvl</td>\n",
       "      <td>AllPub</td>\n",
       "      <td>...</td>\n",
       "      <td>0</td>\n",
       "      <td>NaN</td>\n",
       "      <td>NaN</td>\n",
       "      <td>NaN</td>\n",
       "      <td>0</td>\n",
       "      <td>4</td>\n",
       "      <td>2010</td>\n",
       "      <td>WD</td>\n",
       "      <td>Normal</td>\n",
       "      <td>142125</td>\n",
       "    </tr>\n",
       "    <tr>\n",
       "      <th>1459</th>\n",
       "      <td>1460</td>\n",
       "      <td>20</td>\n",
       "      <td>RL</td>\n",
       "      <td>75.0</td>\n",
       "      <td>9937</td>\n",
       "      <td>Pave</td>\n",
       "      <td>NaN</td>\n",
       "      <td>Reg</td>\n",
       "      <td>Lvl</td>\n",
       "      <td>AllPub</td>\n",
       "      <td>...</td>\n",
       "      <td>0</td>\n",
       "      <td>NaN</td>\n",
       "      <td>NaN</td>\n",
       "      <td>NaN</td>\n",
       "      <td>0</td>\n",
       "      <td>6</td>\n",
       "      <td>2008</td>\n",
       "      <td>WD</td>\n",
       "      <td>Normal</td>\n",
       "      <td>147500</td>\n",
       "    </tr>\n",
       "  </tbody>\n",
       "</table>\n",
       "<p>5 rows × 81 columns</p>\n",
       "</div>"
      ],
      "text/plain": [
       "        Id  MSSubClass MSZoning  LotFrontage  LotArea Street Alley LotShape  \\\n",
       "1455  1456          60       RL         62.0     7917   Pave   NaN      Reg   \n",
       "1456  1457          20       RL         85.0    13175   Pave   NaN      Reg   \n",
       "1457  1458          70       RL         66.0     9042   Pave   NaN      Reg   \n",
       "1458  1459          20       RL         68.0     9717   Pave   NaN      Reg   \n",
       "1459  1460          20       RL         75.0     9937   Pave   NaN      Reg   \n",
       "\n",
       "     LandContour Utilities  ... PoolArea PoolQC  Fence MiscFeature MiscVal  \\\n",
       "1455         Lvl    AllPub  ...        0    NaN    NaN         NaN       0   \n",
       "1456         Lvl    AllPub  ...        0    NaN  MnPrv         NaN       0   \n",
       "1457         Lvl    AllPub  ...        0    NaN  GdPrv        Shed    2500   \n",
       "1458         Lvl    AllPub  ...        0    NaN    NaN         NaN       0   \n",
       "1459         Lvl    AllPub  ...        0    NaN    NaN         NaN       0   \n",
       "\n",
       "     MoSold YrSold  SaleType  SaleCondition  SalePrice  \n",
       "1455      8   2007        WD         Normal     175000  \n",
       "1456      2   2010        WD         Normal     210000  \n",
       "1457      5   2010        WD         Normal     266500  \n",
       "1458      4   2010        WD         Normal     142125  \n",
       "1459      6   2008        WD         Normal     147500  \n",
       "\n",
       "[5 rows x 81 columns]"
      ]
     },
     "execution_count": 103,
     "metadata": {},
     "output_type": "execute_result"
    }
   ],
   "source": [
    "dataset = train_data.copy() \n",
    "dataset.tail()"
   ]
  },
  {
   "cell_type": "markdown",
   "metadata": {
    "papermill": {
     "duration": 0.089305,
     "end_time": "2021-07-08T12:46:47.740154",
     "exception": false,
     "start_time": "2021-07-08T12:46:47.650849",
     "status": "completed"
    },
    "tags": []
   },
   "source": [
    "### Looking for null values"
   ]
  },
  {
   "cell_type": "code",
   "execution_count": 104,
   "metadata": {
    "execution": {
     "iopub.execute_input": "2021-07-08T12:46:47.923360Z",
     "iopub.status.busy": "2021-07-08T12:46:47.922715Z",
     "iopub.status.idle": "2021-07-08T12:46:47.937962Z",
     "shell.execute_reply": "2021-07-08T12:46:47.937392Z",
     "shell.execute_reply.started": "2021-07-08T12:46:01.254454Z"
    },
    "papermill": {
     "duration": 0.107941,
     "end_time": "2021-07-08T12:46:47.938096",
     "exception": false,
     "start_time": "2021-07-08T12:46:47.830155",
     "status": "completed"
    },
    "tags": []
   },
   "outputs": [
    {
     "data": {
      "text/plain": [
       "Id                  0\n",
       "MSSubClass          0\n",
       "MSZoning            0\n",
       "LotFrontage       259\n",
       "LotArea             0\n",
       "Street              0\n",
       "Alley            1369\n",
       "LotShape            0\n",
       "LandContour         0\n",
       "Utilities           0\n",
       "LotConfig           0\n",
       "LandSlope           0\n",
       "Neighborhood        0\n",
       "Condition1          0\n",
       "Condition2          0\n",
       "BldgType            0\n",
       "HouseStyle          0\n",
       "OverallQual         0\n",
       "OverallCond         0\n",
       "YearBuilt           0\n",
       "YearRemodAdd        0\n",
       "RoofStyle           0\n",
       "RoofMatl            0\n",
       "Exterior1st         0\n",
       "Exterior2nd         0\n",
       "MasVnrType          8\n",
       "MasVnrArea          8\n",
       "ExterQual           0\n",
       "ExterCond           0\n",
       "Foundation          0\n",
       "                 ... \n",
       "BedroomAbvGr        0\n",
       "KitchenAbvGr        0\n",
       "KitchenQual         0\n",
       "TotRmsAbvGrd        0\n",
       "Functional          0\n",
       "Fireplaces          0\n",
       "FireplaceQu       690\n",
       "GarageType         81\n",
       "GarageYrBlt        81\n",
       "GarageFinish       81\n",
       "GarageCars          0\n",
       "GarageArea          0\n",
       "GarageQual         81\n",
       "GarageCond         81\n",
       "PavedDrive          0\n",
       "WoodDeckSF          0\n",
       "OpenPorchSF         0\n",
       "EnclosedPorch       0\n",
       "3SsnPorch           0\n",
       "ScreenPorch         0\n",
       "PoolArea            0\n",
       "PoolQC           1453\n",
       "Fence            1179\n",
       "MiscFeature      1406\n",
       "MiscVal             0\n",
       "MoSold              0\n",
       "YrSold              0\n",
       "SaleType            0\n",
       "SaleCondition       0\n",
       "SalePrice           0\n",
       "Length: 81, dtype: int64"
      ]
     },
     "execution_count": 104,
     "metadata": {},
     "output_type": "execute_result"
    }
   ],
   "source": [
    "dataset.isnull().sum()"
   ]
  },
  {
   "cell_type": "markdown",
   "metadata": {
    "papermill": {
     "duration": 0.091795,
     "end_time": "2021-07-08T12:46:48.121065",
     "exception": false,
     "start_time": "2021-07-08T12:46:48.029270",
     "status": "completed"
    },
    "tags": []
   },
   "source": [
    "#### features which contains null values"
   ]
  },
  {
   "cell_type": "code",
   "execution_count": 105,
   "metadata": {
    "execution": {
     "iopub.execute_input": "2021-07-08T12:46:48.334091Z",
     "iopub.status.busy": "2021-07-08T12:46:48.333310Z",
     "iopub.status.idle": "2021-07-08T12:46:48.336245Z",
     "shell.execute_reply": "2021-07-08T12:46:48.336817Z",
     "shell.execute_reply.started": "2021-07-08T12:46:01.277774Z"
    },
    "papermill": {
     "duration": 0.125424,
     "end_time": "2021-07-08T12:46:48.337094",
     "exception": false,
     "start_time": "2021-07-08T12:46:48.211670",
     "status": "completed"
    },
    "tags": []
   },
   "outputs": [
    {
     "data": {
      "text/plain": [
       "['LotFrontage',\n",
       " 'Alley',\n",
       " 'MasVnrType',\n",
       " 'MasVnrArea',\n",
       " 'BsmtQual',\n",
       " 'BsmtCond',\n",
       " 'BsmtExposure',\n",
       " 'BsmtFinType1',\n",
       " 'BsmtFinType2',\n",
       " 'Electrical',\n",
       " 'FireplaceQu',\n",
       " 'GarageType',\n",
       " 'GarageYrBlt',\n",
       " 'GarageFinish',\n",
       " 'GarageQual',\n",
       " 'GarageCond',\n",
       " 'PoolQC',\n",
       " 'Fence',\n",
       " 'MiscFeature']"
      ]
     },
     "execution_count": 105,
     "metadata": {},
     "output_type": "execute_result"
    }
   ],
   "source": [
    "null_feat = [i for i in dataset.columns if dataset[i].isnull().sum() != 0]\n",
    "null_feat"
   ]
  },
  {
   "cell_type": "code",
   "execution_count": 106,
   "metadata": {
    "execution": {
     "iopub.execute_input": "2021-07-08T12:46:48.524564Z",
     "iopub.status.busy": "2021-07-08T12:46:48.523959Z",
     "iopub.status.idle": "2021-07-08T12:46:48.542386Z",
     "shell.execute_reply": "2021-07-08T12:46:48.542898Z",
     "shell.execute_reply.started": "2021-07-08T12:46:01.316192Z"
    },
    "papermill": {
     "duration": 0.113153,
     "end_time": "2021-07-08T12:46:48.543081",
     "exception": false,
     "start_time": "2021-07-08T12:46:48.429928",
     "status": "completed"
    },
    "tags": []
   },
   "outputs": [
    {
     "name": "stdout",
     "output_type": "stream",
     "text": [
      "LotFrontage --> [ 65.  80.  68.  60.  84.  85.  75.  nan  51.  50.  70.  91.  72.  66.\n",
      " 101.  57.  44. 110.  98.  47. 108. 112.  74. 115.  61.  48.  33.  52.\n",
      " 100.  24.  89.  63.  76.  81.  95.  69.  21.  32.  78. 121. 122.  40.\n",
      " 105.  73.  77.  64.  94.  34.  90.  55.  88.  82.  71. 120. 107.  92.\n",
      " 134.  62.  86. 141.  97.  54.  41.  79. 174.  99.  67.  83.  43. 103.\n",
      "  93.  30. 129. 140.  35.  37. 118.  87. 116. 150. 111.  49.  96.  59.\n",
      "  36.  56. 102.  58.  38. 109. 130.  53. 137.  45. 106. 104.  42.  39.\n",
      " 144. 114. 128. 149. 313. 168. 182. 138. 160. 152. 124. 153.  46.]\n",
      "Alley --> [nan 'Grvl' 'Pave']\n",
      "MasVnrType --> ['BrkFace' 'None' 'Stone' 'BrkCmn' nan]\n",
      "MasVnrArea --> [1.960e+02 0.000e+00 1.620e+02 3.500e+02 1.860e+02 2.400e+02 2.860e+02\n",
      " 3.060e+02 2.120e+02 1.800e+02 3.800e+02 2.810e+02 6.400e+02 2.000e+02\n",
      " 2.460e+02 1.320e+02 6.500e+02 1.010e+02 4.120e+02 2.720e+02 4.560e+02\n",
      " 1.031e+03 1.780e+02 5.730e+02 3.440e+02 2.870e+02 1.670e+02 1.115e+03\n",
      " 4.000e+01 1.040e+02 5.760e+02 4.430e+02 4.680e+02 6.600e+01 2.200e+01\n",
      " 2.840e+02 7.600e+01 2.030e+02 6.800e+01 1.830e+02 4.800e+01 2.800e+01\n",
      " 3.360e+02 6.000e+02 7.680e+02 4.800e+02 2.200e+02 1.840e+02 1.129e+03\n",
      " 1.160e+02 1.350e+02 2.660e+02 8.500e+01 3.090e+02 1.360e+02 2.880e+02\n",
      " 7.000e+01 3.200e+02 5.000e+01 1.200e+02 4.360e+02 2.520e+02 8.400e+01\n",
      " 6.640e+02 2.260e+02 3.000e+02 6.530e+02 1.120e+02 4.910e+02 2.680e+02\n",
      " 7.480e+02 9.800e+01 2.750e+02 1.380e+02 2.050e+02 2.620e+02 1.280e+02\n",
      " 2.600e+02 1.530e+02 6.400e+01 3.120e+02 1.600e+01 9.220e+02 1.420e+02\n",
      " 2.900e+02 1.270e+02 5.060e+02 2.970e+02       nan 6.040e+02 2.540e+02\n",
      " 3.600e+01 1.020e+02 4.720e+02 4.810e+02 1.080e+02 3.020e+02 1.720e+02\n",
      " 3.990e+02 2.700e+02 4.600e+01 2.100e+02 1.740e+02 3.480e+02 3.150e+02\n",
      " 2.990e+02 3.400e+02 1.660e+02 7.200e+01 3.100e+01 3.400e+01 2.380e+02\n",
      " 1.600e+03 3.650e+02 5.600e+01 1.500e+02 2.780e+02 2.560e+02 2.250e+02\n",
      " 3.700e+02 3.880e+02 1.750e+02 2.960e+02 1.460e+02 1.130e+02 1.760e+02\n",
      " 6.160e+02 3.000e+01 1.060e+02 8.700e+02 3.620e+02 5.300e+02 5.000e+02\n",
      " 5.100e+02 2.470e+02 3.050e+02 2.550e+02 1.250e+02 1.000e+02 4.320e+02\n",
      " 1.260e+02 4.730e+02 7.400e+01 1.450e+02 2.320e+02 3.760e+02 4.200e+01\n",
      " 1.610e+02 1.100e+02 1.800e+01 2.240e+02 2.480e+02 8.000e+01 3.040e+02\n",
      " 2.150e+02 7.720e+02 4.350e+02 3.780e+02 5.620e+02 1.680e+02 8.900e+01\n",
      " 2.850e+02 3.600e+02 9.400e+01 3.330e+02 9.210e+02 7.620e+02 5.940e+02\n",
      " 2.190e+02 1.880e+02 4.790e+02 5.840e+02 1.820e+02 2.500e+02 2.920e+02\n",
      " 2.450e+02 2.070e+02 8.200e+01 9.700e+01 3.350e+02 2.080e+02 4.200e+02\n",
      " 1.700e+02 4.590e+02 2.800e+02 9.900e+01 1.920e+02 2.040e+02 2.330e+02\n",
      " 1.560e+02 4.520e+02 5.130e+02 2.610e+02 1.640e+02 2.590e+02 2.090e+02\n",
      " 2.630e+02 2.160e+02 3.510e+02 6.600e+02 3.810e+02 5.400e+01 5.280e+02\n",
      " 2.580e+02 4.640e+02 5.700e+01 1.470e+02 1.170e+03 2.930e+02 6.300e+02\n",
      " 4.660e+02 1.090e+02 4.100e+01 1.600e+02 2.890e+02 6.510e+02 1.690e+02\n",
      " 9.500e+01 4.420e+02 2.020e+02 3.380e+02 8.940e+02 3.280e+02 6.730e+02\n",
      " 6.030e+02 1.000e+00 3.750e+02 9.000e+01 3.800e+01 1.570e+02 1.100e+01\n",
      " 1.400e+02 1.300e+02 1.480e+02 8.600e+02 4.240e+02 1.047e+03 2.430e+02\n",
      " 8.160e+02 3.870e+02 2.230e+02 1.580e+02 1.370e+02 1.150e+02 1.890e+02\n",
      " 2.740e+02 1.170e+02 6.000e+01 1.220e+02 9.200e+01 4.150e+02 7.600e+02\n",
      " 2.700e+01 7.500e+01 3.610e+02 1.050e+02 3.420e+02 2.980e+02 5.410e+02\n",
      " 2.360e+02 1.440e+02 4.230e+02 4.400e+01 1.510e+02 9.750e+02 4.500e+02\n",
      " 2.300e+02 5.710e+02 2.400e+01 5.300e+01 2.060e+02 1.400e+01 3.240e+02\n",
      " 2.950e+02 3.960e+02 6.700e+01 1.540e+02 4.250e+02 4.500e+01 1.378e+03\n",
      " 3.370e+02 1.490e+02 1.430e+02 5.100e+01 1.710e+02 2.340e+02 6.300e+01\n",
      " 7.660e+02 3.200e+01 8.100e+01 1.630e+02 5.540e+02 2.180e+02 6.320e+02\n",
      " 1.140e+02 5.670e+02 3.590e+02 4.510e+02 6.210e+02 7.880e+02 8.600e+01\n",
      " 7.960e+02 3.910e+02 2.280e+02 8.800e+01 1.650e+02 4.280e+02 4.100e+02\n",
      " 5.640e+02 3.680e+02 3.180e+02 5.790e+02 6.500e+01 7.050e+02 4.080e+02\n",
      " 2.440e+02 1.230e+02 3.660e+02 7.310e+02 4.480e+02 2.940e+02 3.100e+02\n",
      " 2.370e+02 4.260e+02 9.600e+01 4.380e+02 1.940e+02 1.190e+02]\n",
      "BsmtQual --> ['Gd' 'TA' 'Ex' nan 'Fa']\n",
      "BsmtCond --> ['TA' 'Gd' nan 'Fa' 'Po']\n",
      "BsmtExposure --> ['No' 'Gd' 'Mn' 'Av' nan]\n",
      "BsmtFinType1 --> ['GLQ' 'ALQ' 'Unf' 'Rec' 'BLQ' nan 'LwQ']\n",
      "BsmtFinType2 --> ['Unf' 'BLQ' nan 'ALQ' 'Rec' 'LwQ' 'GLQ']\n",
      "Electrical --> ['SBrkr' 'FuseF' 'FuseA' 'FuseP' 'Mix' nan]\n",
      "FireplaceQu --> [nan 'TA' 'Gd' 'Fa' 'Ex' 'Po']\n",
      "GarageType --> ['Attchd' 'Detchd' 'BuiltIn' 'CarPort' nan 'Basment' '2Types']\n",
      "GarageYrBlt --> [2003. 1976. 2001. 1998. 2000. 1993. 2004. 1973. 1931. 1939. 1965. 2005.\n",
      " 1962. 2006. 1960. 1991. 1970. 1967. 1958. 1930. 2002. 1968. 2007. 2008.\n",
      " 1957. 1920. 1966. 1959. 1995. 1954. 1953.   nan 1983. 1977. 1997. 1985.\n",
      " 1963. 1981. 1964. 1999. 1935. 1990. 1945. 1987. 1989. 1915. 1956. 1948.\n",
      " 1974. 2009. 1950. 1961. 1921. 1900. 1979. 1951. 1969. 1936. 1975. 1971.\n",
      " 1923. 1984. 1926. 1955. 1986. 1988. 1916. 1932. 1972. 1918. 1980. 1924.\n",
      " 1996. 1940. 1949. 1994. 1910. 1978. 1982. 1992. 1925. 1941. 2010. 1927.\n",
      " 1947. 1937. 1942. 1938. 1952. 1928. 1922. 1934. 1906. 1914. 1946. 1908.\n",
      " 1929. 1933.]\n",
      "GarageFinish --> ['RFn' 'Unf' 'Fin' nan]\n",
      "GarageQual --> ['TA' 'Fa' 'Gd' nan 'Ex' 'Po']\n",
      "GarageCond --> ['TA' 'Fa' nan 'Gd' 'Po' 'Ex']\n",
      "PoolQC --> [nan 'Ex' 'Fa' 'Gd']\n",
      "Fence --> [nan 'MnPrv' 'GdWo' 'GdPrv' 'MnWw']\n",
      "MiscFeature --> [nan 'Shed' 'Gar2' 'Othr' 'TenC']\n"
     ]
    }
   ],
   "source": [
    "for i in null_feat:\n",
    "    print(f\"{i} --> {dataset[i].unique()}\")"
   ]
  },
  {
   "cell_type": "code",
   "execution_count": 107,
   "metadata": {
    "execution": {
     "iopub.execute_input": "2021-07-08T12:46:49.282932Z",
     "iopub.status.busy": "2021-07-08T12:46:49.282223Z",
     "iopub.status.idle": "2021-07-08T12:46:49.284864Z",
     "shell.execute_reply": "2021-07-08T12:46:49.285268Z",
     "shell.execute_reply.started": "2021-07-08T12:46:01.340524Z"
    },
    "papermill": {
     "duration": 0.100509,
     "end_time": "2021-07-08T12:46:49.285428",
     "exception": false,
     "start_time": "2021-07-08T12:46:49.184919",
     "status": "completed"
    },
    "tags": []
   },
   "outputs": [
    {
     "data": {
      "text/plain": [
       "0"
      ]
     },
     "execution_count": 107,
     "metadata": {},
     "output_type": "execute_result"
    }
   ],
   "source": [
    "dataset['LotFrontage'].fillna(dataset['LotFrontage'].mean(), inplace=True)\n",
    "dataset['LotFrontage'].isnull().sum()"
   ]
  },
  {
   "cell_type": "code",
   "execution_count": 108,
   "metadata": {
    "execution": {
     "iopub.execute_input": "2021-07-08T12:46:49.646070Z",
     "iopub.status.busy": "2021-07-08T12:46:49.645477Z",
     "iopub.status.idle": "2021-07-08T12:46:49.652603Z",
     "shell.execute_reply": "2021-07-08T12:46:49.652153Z",
     "shell.execute_reply.started": "2021-07-08T12:46:01.351464Z"
    },
    "papermill": {
     "duration": 0.097019,
     "end_time": "2021-07-08T12:46:49.652729",
     "exception": false,
     "start_time": "2021-07-08T12:46:49.555710",
     "status": "completed"
    },
    "tags": []
   },
   "outputs": [
    {
     "data": {
      "text/plain": [
       "Grvl    50\n",
       "Pave    41\n",
       "Name: Alley, dtype: int64"
      ]
     },
     "execution_count": 108,
     "metadata": {},
     "output_type": "execute_result"
    }
   ],
   "source": [
    "dataset['Alley'].value_counts()"
   ]
  },
  {
   "cell_type": "code",
   "execution_count": 109,
   "metadata": {
    "execution": {
     "iopub.execute_input": "2021-07-08T12:46:49.844307Z",
     "iopub.status.busy": "2021-07-08T12:46:49.842473Z",
     "iopub.status.idle": "2021-07-08T12:46:49.977627Z",
     "shell.execute_reply": "2021-07-08T12:46:49.977076Z",
     "shell.execute_reply.started": "2021-07-08T12:46:01.365961Z"
    },
    "papermill": {
     "duration": 0.234257,
     "end_time": "2021-07-08T12:46:49.977772",
     "exception": false,
     "start_time": "2021-07-08T12:46:49.743515",
     "status": "completed"
    },
    "tags": []
   },
   "outputs": [
    {
     "name": "stdout",
     "output_type": "stream",
     "text": [
      "% of null --> 93.76712328767123\n"
     ]
    },
    {
     "data": {
      "image/png": "[encoded data removed]",
      "text/plain": [
       "<Figure size 432x288 with 1 Axes>"
      ]
     },
     "metadata": {
      "needs_background": "light"
     },
     "output_type": "display_data"
    }
   ],
   "source": [
    "null(dataset, 'Alley', True)"
   ]
  },
  {
   "cell_type": "code",
   "execution_count": 110,
   "metadata": {
    "execution": {
     "iopub.execute_input": "2021-07-08T12:46:50.356039Z",
     "iopub.status.busy": "2021-07-08T12:46:50.354946Z",
     "iopub.status.idle": "2021-07-08T12:46:50.359157Z",
     "shell.execute_reply": "2021-07-08T12:46:50.358635Z",
     "shell.execute_reply.started": "2021-07-08T12:46:01.496450Z"
    },
    "papermill": {
     "duration": 0.101848,
     "end_time": "2021-07-08T12:46:50.359291",
     "exception": false,
     "start_time": "2021-07-08T12:46:50.257443",
     "status": "completed"
    },
    "tags": []
   },
   "outputs": [],
   "source": [
    "dataset.drop('Alley', axis=1, inplace = True)"
   ]
  },
  {
   "cell_type": "code",
   "execution_count": 111,
   "metadata": {
    "execution": {
     "iopub.execute_input": "2021-07-08T12:46:50.740492Z",
     "iopub.status.busy": "2021-07-08T12:46:50.739823Z",
     "iopub.status.idle": "2021-07-08T12:46:50.858038Z",
     "shell.execute_reply": "2021-07-08T12:46:50.857336Z",
     "shell.execute_reply.started": "2021-07-08T12:46:01.507038Z"
    },
    "papermill": {
     "duration": 0.219477,
     "end_time": "2021-07-08T12:46:50.858182",
     "exception": false,
     "start_time": "2021-07-08T12:46:50.638705",
     "status": "completed"
    },
    "tags": []
   },
   "outputs": [
    {
     "name": "stdout",
     "output_type": "stream",
     "text": [
      "% of null --> 0.547945205479452\n"
     ]
    },
    {
     "data": {
      "image/png": "[encoded data removed]",
      "text/plain": [
       "<Figure size 432x288 with 1 Axes>"
      ]
     },
     "metadata": {
      "needs_background": "light"
     },
     "output_type": "display_data"
    }
   ],
   "source": [
    "null(dataset, 'MasVnrType', True)"
   ]
  },
  {
   "cell_type": "code",
   "execution_count": 112,
   "metadata": {
    "execution": {
     "iopub.execute_input": "2021-07-08T12:46:51.246130Z",
     "iopub.status.busy": "2021-07-08T12:46:51.245407Z",
     "iopub.status.idle": "2021-07-08T12:46:51.248082Z",
     "shell.execute_reply": "2021-07-08T12:46:51.247482Z",
     "shell.execute_reply.started": "2021-07-08T12:46:01.646122Z"
    },
    "papermill": {
     "duration": 0.102172,
     "end_time": "2021-07-08T12:46:51.248215",
     "exception": false,
     "start_time": "2021-07-08T12:46:51.146043",
     "status": "completed"
    },
    "tags": []
   },
   "outputs": [],
   "source": [
    "dataset['MasVnrType'].fillna('None', inplace=True)"
   ]
  },
  {
   "cell_type": "code",
   "execution_count": 113,
   "metadata": {
    "execution": {
     "iopub.execute_input": "2021-07-08T12:46:51.634650Z",
     "iopub.status.busy": "2021-07-08T12:46:51.633898Z",
     "iopub.status.idle": "2021-07-08T12:46:51.637684Z",
     "shell.execute_reply": "2021-07-08T12:46:51.638150Z",
     "shell.execute_reply.started": "2021-07-08T12:46:01.653923Z"
    },
    "papermill": {
     "duration": 0.1077,
     "end_time": "2021-07-08T12:46:51.638334",
     "exception": false,
     "start_time": "2021-07-08T12:46:51.530634",
     "status": "completed"
    },
    "tags": []
   },
   "outputs": [
    {
     "data": {
      "text/plain": [
       "array([1.960e+02, 0.000e+00, 1.620e+02, 3.500e+02, 1.860e+02, 2.400e+02,\n",
       "       2.860e+02, 3.060e+02, 2.120e+02, 1.800e+02, 3.800e+02, 2.810e+02,\n",
       "       6.400e+02, 2.000e+02, 2.460e+02, 1.320e+02, 6.500e+02, 1.010e+02,\n",
       "       4.120e+02, 2.720e+02, 4.560e+02, 1.031e+03, 1.780e+02, 5.730e+02,\n",
       "       3.440e+02, 2.870e+02, 1.670e+02, 1.115e+03, 4.000e+01, 1.040e+02,\n",
       "       5.760e+02, 4.430e+02, 4.680e+02, 6.600e+01, 2.200e+01, 2.840e+02,\n",
       "       7.600e+01, 2.030e+02, 6.800e+01, 1.830e+02, 4.800e+01, 2.800e+01,\n",
       "       3.360e+02, 6.000e+02, 7.680e+02, 4.800e+02, 2.200e+02, 1.840e+02,\n",
       "       1.129e+03, 1.160e+02, 1.350e+02, 2.660e+02, 8.500e+01, 3.090e+02,\n",
       "       1.360e+02, 2.880e+02, 7.000e+01, 3.200e+02, 5.000e+01, 1.200e+02,\n",
       "       4.360e+02, 2.520e+02, 8.400e+01, 6.640e+02, 2.260e+02, 3.000e+02,\n",
       "       6.530e+02, 1.120e+02, 4.910e+02, 2.680e+02, 7.480e+02, 9.800e+01,\n",
       "       2.750e+02, 1.380e+02, 2.050e+02, 2.620e+02, 1.280e+02, 2.600e+02,\n",
       "       1.530e+02, 6.400e+01, 3.120e+02, 1.600e+01, 9.220e+02, 1.420e+02,\n",
       "       2.900e+02, 1.270e+02, 5.060e+02, 2.970e+02,       nan, 6.040e+02,\n",
       "       2.540e+02, 3.600e+01, 1.020e+02, 4.720e+02, 4.810e+02, 1.080e+02,\n",
       "       3.020e+02, 1.720e+02, 3.990e+02, 2.700e+02, 4.600e+01, 2.100e+02,\n",
       "       1.740e+02, 3.480e+02, 3.150e+02, 2.990e+02, 3.400e+02, 1.660e+02,\n",
       "       7.200e+01, 3.100e+01, 3.400e+01, 2.380e+02, 1.600e+03, 3.650e+02,\n",
       "       5.600e+01, 1.500e+02, 2.780e+02, 2.560e+02, 2.250e+02, 3.700e+02,\n",
       "       3.880e+02, 1.750e+02, 2.960e+02, 1.460e+02, 1.130e+02, 1.760e+02,\n",
       "       6.160e+02, 3.000e+01, 1.060e+02, 8.700e+02, 3.620e+02, 5.300e+02,\n",
       "       5.000e+02, 5.100e+02, 2.470e+02, 3.050e+02, 2.550e+02, 1.250e+02,\n",
       "       1.000e+02, 4.320e+02, 1.260e+02, 4.730e+02, 7.400e+01, 1.450e+02,\n",
       "       2.320e+02, 3.760e+02, 4.200e+01, 1.610e+02, 1.100e+02, 1.800e+01,\n",
       "       2.240e+02, 2.480e+02, 8.000e+01, 3.040e+02, 2.150e+02, 7.720e+02,\n",
       "       4.350e+02, 3.780e+02, 5.620e+02, 1.680e+02, 8.900e+01, 2.850e+02,\n",
       "       3.600e+02, 9.400e+01, 3.330e+02, 9.210e+02, 7.620e+02, 5.940e+02,\n",
       "       2.190e+02, 1.880e+02, 4.790e+02, 5.840e+02, 1.820e+02, 2.500e+02,\n",
       "       2.920e+02, 2.450e+02, 2.070e+02, 8.200e+01, 9.700e+01, 3.350e+02,\n",
       "       2.080e+02, 4.200e+02, 1.700e+02, 4.590e+02, 2.800e+02, 9.900e+01,\n",
       "       1.920e+02, 2.040e+02, 2.330e+02, 1.560e+02, 4.520e+02, 5.130e+02,\n",
       "       2.610e+02, 1.640e+02, 2.590e+02, 2.090e+02, 2.630e+02, 2.160e+02,\n",
       "       3.510e+02, 6.600e+02, 3.810e+02, 5.400e+01, 5.280e+02, 2.580e+02,\n",
       "       4.640e+02, 5.700e+01, 1.470e+02, 1.170e+03, 2.930e+02, 6.300e+02,\n",
       "       4.660e+02, 1.090e+02, 4.100e+01, 1.600e+02, 2.890e+02, 6.510e+02,\n",
       "       1.690e+02, 9.500e+01, 4.420e+02, 2.020e+02, 3.380e+02, 8.940e+02,\n",
       "       3.280e+02, 6.730e+02, 6.030e+02, 1.000e+00, 3.750e+02, 9.000e+01,\n",
       "       3.800e+01, 1.570e+02, 1.100e+01, 1.400e+02, 1.300e+02, 1.480e+02,\n",
       "       8.600e+02, 4.240e+02, 1.047e+03, 2.430e+02, 8.160e+02, 3.870e+02,\n",
       "       2.230e+02, 1.580e+02, 1.370e+02, 1.150e+02, 1.890e+02, 2.740e+02,\n",
       "       1.170e+02, 6.000e+01, 1.220e+02, 9.200e+01, 4.150e+02, 7.600e+02,\n",
       "       2.700e+01, 7.500e+01, 3.610e+02, 1.050e+02, 3.420e+02, 2.980e+02,\n",
       "       5.410e+02, 2.360e+02, 1.440e+02, 4.230e+02, 4.400e+01, 1.510e+02,\n",
       "       9.750e+02, 4.500e+02, 2.300e+02, 5.710e+02, 2.400e+01, 5.300e+01,\n",
       "       2.060e+02, 1.400e+01, 3.240e+02, 2.950e+02, 3.960e+02, 6.700e+01,\n",
       "       1.540e+02, 4.250e+02, 4.500e+01, 1.378e+03, 3.370e+02, 1.490e+02,\n",
       "       1.430e+02, 5.100e+01, 1.710e+02, 2.340e+02, 6.300e+01, 7.660e+02,\n",
       "       3.200e+01, 8.100e+01, 1.630e+02, 5.540e+02, 2.180e+02, 6.320e+02,\n",
       "       1.140e+02, 5.670e+02, 3.590e+02, 4.510e+02, 6.210e+02, 7.880e+02,\n",
       "       8.600e+01, 7.960e+02, 3.910e+02, 2.280e+02, 8.800e+01, 1.650e+02,\n",
       "       4.280e+02, 4.100e+02, 5.640e+02, 3.680e+02, 3.180e+02, 5.790e+02,\n",
       "       6.500e+01, 7.050e+02, 4.080e+02, 2.440e+02, 1.230e+02, 3.660e+02,\n",
       "       7.310e+02, 4.480e+02, 2.940e+02, 3.100e+02, 2.370e+02, 4.260e+02,\n",
       "       9.600e+01, 4.380e+02, 1.940e+02, 1.190e+02])"
      ]
     },
     "execution_count": 113,
     "metadata": {},
     "output_type": "execute_result"
    }
   ],
   "source": [
    "dataset['MasVnrArea'].unique()"
   ]
  },
  {
   "cell_type": "code",
   "execution_count": 114,
   "metadata": {
    "execution": {
     "iopub.execute_input": "2021-07-08T12:46:51.890291Z",
     "iopub.status.busy": "2021-07-08T12:46:51.889480Z",
     "iopub.status.idle": "2021-07-08T12:46:51.893457Z",
     "shell.execute_reply": "2021-07-08T12:46:51.892679Z",
     "shell.execute_reply.started": "2021-07-08T12:46:01.671615Z"
    },
    "papermill": {
     "duration": 0.108157,
     "end_time": "2021-07-08T12:46:51.893639",
     "exception": false,
     "start_time": "2021-07-08T12:46:51.785482",
     "status": "completed"
    },
    "tags": []
   },
   "outputs": [
    {
     "name": "stdout",
     "output_type": "stream",
     "text": [
      "% of null --> 0.547945205479452\n"
     ]
    }
   ],
   "source": [
    "null(dataset, 'MasVnrArea')"
   ]
  },
  {
   "cell_type": "code",
   "execution_count": 115,
   "metadata": {
    "execution": {
     "iopub.execute_input": "2021-07-08T12:46:52.092343Z",
     "iopub.status.busy": "2021-07-08T12:46:52.091710Z",
     "iopub.status.idle": "2021-07-08T12:46:52.096186Z",
     "shell.execute_reply": "2021-07-08T12:46:52.095594Z",
     "shell.execute_reply.started": "2021-07-08T12:46:01.681818Z"
    },
    "papermill": {
     "duration": 0.105638,
     "end_time": "2021-07-08T12:46:52.096315",
     "exception": false,
     "start_time": "2021-07-08T12:46:51.990677",
     "status": "completed"
    },
    "tags": []
   },
   "outputs": [],
   "source": [
    "dataset['MasVnrArea'].fillna(dataset['MasVnrArea'].mean(), inplace=True)"
   ]
  },
  {
   "cell_type": "code",
   "execution_count": 116,
   "metadata": {
    "execution": {
     "iopub.execute_input": "2021-07-08T12:46:52.487001Z",
     "iopub.status.busy": "2021-07-08T12:46:52.486255Z",
     "iopub.status.idle": "2021-07-08T12:46:52.611036Z",
     "shell.execute_reply": "2021-07-08T12:46:52.610430Z",
     "shell.execute_reply.started": "2021-07-08T12:46:01.693542Z"
    },
    "papermill": {
     "duration": 0.228164,
     "end_time": "2021-07-08T12:46:52.611172",
     "exception": false,
     "start_time": "2021-07-08T12:46:52.383008",
     "status": "completed"
    },
    "tags": []
   },
   "outputs": [
    {
     "name": "stdout",
     "output_type": "stream",
     "text": [
      "% of null --> 2.5342465753424657\n"
     ]
    },
    {
     "data": {
      "image/png": "[encoded data removed]",
      "text/plain": [
       "<Figure size 432x288 with 1 Axes>"
      ]
     },
     "metadata": {
      "needs_background": "light"
     },
     "output_type": "display_data"
    }
   ],
   "source": [
    "null(dataset, 'BsmtQual', True)"
   ]
  },
  {
   "cell_type": "code",
   "execution_count": 117,
   "metadata": {
    "execution": {
     "iopub.execute_input": "2021-07-08T12:46:52.808129Z",
     "iopub.status.busy": "2021-07-08T12:46:52.807476Z",
     "iopub.status.idle": "2021-07-08T12:46:52.810712Z",
     "shell.execute_reply": "2021-07-08T12:46:52.810228Z",
     "shell.execute_reply.started": "2021-07-08T12:46:01.831977Z"
    },
    "papermill": {
     "duration": 0.103767,
     "end_time": "2021-07-08T12:46:52.810837",
     "exception": false,
     "start_time": "2021-07-08T12:46:52.707070",
     "status": "completed"
    },
    "tags": []
   },
   "outputs": [],
   "source": [
    "dataset['BsmtQual'].fillna('TA', inplace=True)"
   ]
  },
  {
   "cell_type": "code",
   "execution_count": 118,
   "metadata": {
    "execution": {
     "iopub.execute_input": "2021-07-08T12:46:53.199109Z",
     "iopub.status.busy": "2021-07-08T12:46:53.198156Z",
     "iopub.status.idle": "2021-07-08T12:46:53.323929Z",
     "shell.execute_reply": "2021-07-08T12:46:53.323430Z",
     "shell.execute_reply.started": "2021-07-08T12:46:01.838500Z"
    },
    "papermill": {
     "duration": 0.226549,
     "end_time": "2021-07-08T12:46:53.324092",
     "exception": false,
     "start_time": "2021-07-08T12:46:53.097543",
     "status": "completed"
    },
    "tags": []
   },
   "outputs": [
    {
     "name": "stdout",
     "output_type": "stream",
     "text": [
      "% of null --> 2.5342465753424657\n"
     ]
    },
    {
     "data": {
      "image/png": "[encoded data removed]",
      "text/plain": [
       "<Figure size 432x288 with 1 Axes>"
      ]
     },
     "metadata": {
      "needs_background": "light"
     },
     "output_type": "display_data"
    }
   ],
   "source": [
    "null(dataset, 'BsmtCond', True)"
   ]
  },
  {
   "cell_type": "code",
   "execution_count": 119,
   "metadata": {
    "execution": {
     "iopub.execute_input": "2021-07-08T12:46:53.523014Z",
     "iopub.status.busy": "2021-07-08T12:46:53.522366Z",
     "iopub.status.idle": "2021-07-08T12:46:53.527797Z",
     "shell.execute_reply": "2021-07-08T12:46:53.527285Z",
     "shell.execute_reply.started": "2021-07-08T12:46:01.978537Z"
    },
    "papermill": {
     "duration": 0.106881,
     "end_time": "2021-07-08T12:46:53.527963",
     "exception": false,
     "start_time": "2021-07-08T12:46:53.421082",
     "status": "completed"
    },
    "tags": []
   },
   "outputs": [],
   "source": [
    "dataset['BsmtCond'].fillna('TA', inplace=True)"
   ]
  },
  {
   "cell_type": "code",
   "execution_count": 120,
   "metadata": {
    "execution": {
     "iopub.execute_input": "2021-07-08T12:46:53.727250Z",
     "iopub.status.busy": "2021-07-08T12:46:53.726586Z",
     "iopub.status.idle": "2021-07-08T12:46:53.729288Z",
     "shell.execute_reply": "2021-07-08T12:46:53.729762Z",
     "shell.execute_reply.started": "2021-07-08T12:46:01.986144Z"
    },
    "papermill": {
     "duration": 0.104875,
     "end_time": "2021-07-08T12:46:53.729920",
     "exception": false,
     "start_time": "2021-07-08T12:46:53.625045",
     "status": "completed"
    },
    "tags": []
   },
   "outputs": [
    {
     "data": {
      "text/plain": [
       "['LotFrontage',\n",
       " 'Alley',\n",
       " 'MasVnrType',\n",
       " 'MasVnrArea',\n",
       " 'BsmtQual',\n",
       " 'BsmtCond',\n",
       " 'BsmtExposure',\n",
       " 'BsmtFinType1',\n",
       " 'BsmtFinType2',\n",
       " 'Electrical',\n",
       " 'FireplaceQu',\n",
       " 'GarageType',\n",
       " 'GarageYrBlt',\n",
       " 'GarageFinish',\n",
       " 'GarageQual',\n",
       " 'GarageCond',\n",
       " 'PoolQC',\n",
       " 'Fence',\n",
       " 'MiscFeature']"
      ]
     },
     "execution_count": 120,
     "metadata": {},
     "output_type": "execute_result"
    }
   ],
   "source": [
    "null_feat"
   ]
  },
  {
   "cell_type": "code",
   "execution_count": 121,
   "metadata": {
    "execution": {
     "iopub.execute_input": "2021-07-08T12:46:54.122261Z",
     "iopub.status.busy": "2021-07-08T12:46:54.121627Z",
     "iopub.status.idle": "2021-07-08T12:46:54.241060Z",
     "shell.execute_reply": "2021-07-08T12:46:54.241536Z",
     "shell.execute_reply.started": "2021-07-08T12:46:01.999069Z"
    },
    "papermill": {
     "duration": 0.219937,
     "end_time": "2021-07-08T12:46:54.241720",
     "exception": false,
     "start_time": "2021-07-08T12:46:54.021783",
     "status": "completed"
    },
    "tags": []
   },
   "outputs": [
    {
     "name": "stdout",
     "output_type": "stream",
     "text": [
      "% of null --> 2.6027397260273974\n"
     ]
    },
    {
     "data": {
      "image/png": "[encoded data removed]",
      "text/plain": [
       "<Figure size 432x288 with 1 Axes>"
      ]
     },
     "metadata": {
      "needs_background": "light"
     },
     "output_type": "display_data"
    }
   ],
   "source": [
    "null(dataset, 'BsmtExposure', True)"
   ]
  },
  {
   "cell_type": "code",
   "execution_count": 122,
   "metadata": {
    "execution": {
     "iopub.execute_input": "2021-07-08T12:46:54.444232Z",
     "iopub.status.busy": "2021-07-08T12:46:54.443585Z",
     "iopub.status.idle": "2021-07-08T12:46:54.446556Z",
     "shell.execute_reply": "2021-07-08T12:46:54.446087Z",
     "shell.execute_reply.started": "2021-07-08T12:46:02.140054Z"
    },
    "papermill": {
     "duration": 0.106677,
     "end_time": "2021-07-08T12:46:54.446684",
     "exception": false,
     "start_time": "2021-07-08T12:46:54.340007",
     "status": "completed"
    },
    "tags": []
   },
   "outputs": [],
   "source": [
    "dataset['BsmtExposure'].fillna('No', inplace=True)"
   ]
  },
  {
   "cell_type": "code",
   "execution_count": 123,
   "metadata": {
    "execution": {
     "iopub.execute_input": "2021-07-08T12:46:54.849814Z",
     "iopub.status.busy": "2021-07-08T12:46:54.849182Z",
     "iopub.status.idle": "2021-07-08T12:46:54.976493Z",
     "shell.execute_reply": "2021-07-08T12:46:54.975921Z",
     "shell.execute_reply.started": "2021-07-08T12:46:02.147903Z"
    },
    "papermill": {
     "duration": 0.234406,
     "end_time": "2021-07-08T12:46:54.976658",
     "exception": false,
     "start_time": "2021-07-08T12:46:54.742252",
     "status": "completed"
    },
    "tags": []
   },
   "outputs": [
    {
     "name": "stdout",
     "output_type": "stream",
     "text": [
      "% of null --> 2.5342465753424657\n"
     ]
    },
    {
     "data": {
      "image/png": "[encoded data removed]",
      "text/plain": [
       "<Figure size 432x288 with 1 Axes>"
      ]
     },
     "metadata": {
      "needs_background": "light"
     },
     "output_type": "display_data"
    }
   ],
   "source": [
    "null(dataset, 'BsmtFinType1', True)"
   ]
  },
  {
   "cell_type": "code",
   "execution_count": 124,
   "metadata": {
    "execution": {
     "iopub.execute_input": "2021-07-08T12:46:55.181508Z",
     "iopub.status.busy": "2021-07-08T12:46:55.180830Z",
     "iopub.status.idle": "2021-07-08T12:46:55.183632Z",
     "shell.execute_reply": "2021-07-08T12:46:55.184118Z",
     "shell.execute_reply.started": "2021-07-08T12:46:02.295825Z"
    },
    "papermill": {
     "duration": 0.108337,
     "end_time": "2021-07-08T12:46:55.184300",
     "exception": false,
     "start_time": "2021-07-08T12:46:55.075963",
     "status": "completed"
    },
    "tags": []
   },
   "outputs": [],
   "source": [
    "dataset['BsmtFinType1'].fillna('Unf', inplace=True)"
   ]
  },
  {
   "cell_type": "code",
   "execution_count": 125,
   "metadata": {
    "execution": {
     "iopub.execute_input": "2021-07-08T12:46:55.593282Z",
     "iopub.status.busy": "2021-07-08T12:46:55.592606Z",
     "iopub.status.idle": "2021-07-08T12:46:55.728423Z",
     "shell.execute_reply": "2021-07-08T12:46:55.727517Z",
     "shell.execute_reply.started": "2021-07-08T12:46:02.301199Z"
    },
    "papermill": {
     "duration": 0.243822,
     "end_time": "2021-07-08T12:46:55.728579",
     "exception": false,
     "start_time": "2021-07-08T12:46:55.484757",
     "status": "completed"
    },
    "tags": []
   },
   "outputs": [
    {
     "name": "stdout",
     "output_type": "stream",
     "text": [
      "% of null --> 2.6027397260273974\n"
     ]
    },
    {
     "data": {
      "image/png": "[encoded data removed]",
      "text/plain": [
       "<Figure size 432x288 with 1 Axes>"
      ]
     },
     "metadata": {
      "needs_background": "light"
     },
     "output_type": "display_data"
    }
   ],
   "source": [
    "null(dataset, 'BsmtFinType2', True)"
   ]
  },
  {
   "cell_type": "code",
   "execution_count": 126,
   "metadata": {
    "execution": {
     "iopub.execute_input": "2021-07-08T12:46:55.932397Z",
     "iopub.status.busy": "2021-07-08T12:46:55.931443Z",
     "iopub.status.idle": "2021-07-08T12:46:55.936401Z",
     "shell.execute_reply": "2021-07-08T12:46:55.937013Z",
     "shell.execute_reply.started": "2021-07-08T12:46:02.455763Z"
    },
    "papermill": {
     "duration": 0.108009,
     "end_time": "2021-07-08T12:46:55.937175",
     "exception": false,
     "start_time": "2021-07-08T12:46:55.829166",
     "status": "completed"
    },
    "tags": []
   },
   "outputs": [],
   "source": [
    "dataset['BsmtFinType2'].fillna('Unf', inplace=True)"
   ]
  },
  {
   "cell_type": "code",
   "execution_count": 127,
   "metadata": {
    "execution": {
     "iopub.execute_input": "2021-07-08T12:46:56.374136Z",
     "iopub.status.busy": "2021-07-08T12:46:56.373234Z",
     "iopub.status.idle": "2021-07-08T12:46:56.616378Z",
     "shell.execute_reply": "2021-07-08T12:46:56.616834Z",
     "shell.execute_reply.started": "2021-07-08T12:46:02.462961Z"
    },
    "papermill": {
     "duration": 0.383584,
     "end_time": "2021-07-08T12:46:56.617034",
     "exception": false,
     "start_time": "2021-07-08T12:46:56.233450",
     "status": "completed"
    },
    "tags": []
   },
   "outputs": [
    {
     "name": "stdout",
     "output_type": "stream",
     "text": [
      "% of null --> 0.0684931506849315\n"
     ]
    },
    {
     "data": {
      "image/png": "[encoded data removed]",
      "text/plain": [
       "<Figure size 432x288 with 1 Axes>"
      ]
     },
     "metadata": {
      "needs_background": "light"
     },
     "output_type": "display_data"
    }
   ],
   "source": [
    "null(dataset, 'Electrical', True)"
   ]
  },
  {
   "cell_type": "code",
   "execution_count": 128,
   "metadata": {
    "execution": {
     "iopub.execute_input": "2021-07-08T12:46:56.819485Z",
     "iopub.status.busy": "2021-07-08T12:46:56.818842Z",
     "iopub.status.idle": "2021-07-08T12:46:56.825111Z",
     "shell.execute_reply": "2021-07-08T12:46:56.824436Z",
     "shell.execute_reply.started": "2021-07-08T12:46:02.867936Z"
    },
    "papermill": {
     "duration": 0.108572,
     "end_time": "2021-07-08T12:46:56.825255",
     "exception": false,
     "start_time": "2021-07-08T12:46:56.716683",
     "status": "completed"
    },
    "tags": []
   },
   "outputs": [
    {
     "data": {
      "text/plain": [
       "array(['SBrkr', 'FuseF', 'FuseA', 'FuseP', 'Mix', nan], dtype=object)"
      ]
     },
     "execution_count": 128,
     "metadata": {},
     "output_type": "execute_result"
    }
   ],
   "source": [
    "dataset['Electrical'].unique()"
   ]
  },
  {
   "cell_type": "code",
   "execution_count": 129,
   "metadata": {
    "execution": {
     "iopub.execute_input": "2021-07-08T12:46:57.035202Z",
     "iopub.status.busy": "2021-07-08T12:46:57.034431Z",
     "iopub.status.idle": "2021-07-08T12:46:57.036706Z",
     "shell.execute_reply": "2021-07-08T12:46:57.037154Z",
     "shell.execute_reply.started": "2021-07-08T12:46:02.875833Z"
    },
    "papermill": {
     "duration": 0.110227,
     "end_time": "2021-07-08T12:46:57.037313",
     "exception": false,
     "start_time": "2021-07-08T12:46:56.927086",
     "status": "completed"
    },
    "tags": []
   },
   "outputs": [],
   "source": [
    "dataset['Electrical'].fillna('SBrkr', inplace=True)"
   ]
  },
  {
   "cell_type": "code",
   "execution_count": 130,
   "metadata": {
    "execution": {
     "iopub.execute_input": "2021-07-08T12:46:57.451618Z",
     "iopub.status.busy": "2021-07-08T12:46:57.450650Z",
     "iopub.status.idle": "2021-07-08T12:46:57.580758Z",
     "shell.execute_reply": "2021-07-08T12:46:57.581262Z",
     "shell.execute_reply.started": "2021-07-08T12:46:02.887414Z"
    },
    "papermill": {
     "duration": 0.240418,
     "end_time": "2021-07-08T12:46:57.581456",
     "exception": false,
     "start_time": "2021-07-08T12:46:57.341038",
     "status": "completed"
    },
    "tags": []
   },
   "outputs": [
    {
     "name": "stdout",
     "output_type": "stream",
     "text": [
      "% of null --> 47.26027397260274\n"
     ]
    },
    {
     "data": {
      "image/png": "[encoded data removed]",
      "text/plain": [
       "<Figure size 432x288 with 1 Axes>"
      ]
     },
     "metadata": {
      "needs_background": "light"
     },
     "output_type": "display_data"
    }
   ],
   "source": [
    "null(dataset, \"FireplaceQu\", True)"
   ]
  },
  {
   "cell_type": "code",
   "execution_count": 131,
   "metadata": {
    "execution": {
     "iopub.execute_input": "2021-07-08T12:46:57.793631Z",
     "iopub.status.busy": "2021-07-08T12:46:57.792984Z",
     "iopub.status.idle": "2021-07-08T12:46:57.796065Z",
     "shell.execute_reply": "2021-07-08T12:46:57.795463Z",
     "shell.execute_reply.started": "2021-07-08T12:46:03.033189Z"
    },
    "papermill": {
     "duration": 0.111301,
     "end_time": "2021-07-08T12:46:57.796198",
     "exception": false,
     "start_time": "2021-07-08T12:46:57.684897",
     "status": "completed"
    },
    "tags": []
   },
   "outputs": [],
   "source": [
    "dataset['FireplaceQu'].fillna('None', inplace=True)"
   ]
  },
  {
   "cell_type": "code",
   "execution_count": 132,
   "metadata": {
    "execution": {
     "iopub.execute_input": "2021-07-08T12:46:58.217228Z",
     "iopub.status.busy": "2021-07-08T12:46:58.216269Z",
     "iopub.status.idle": "2021-07-08T12:46:58.347705Z",
     "shell.execute_reply": "2021-07-08T12:46:58.346809Z",
     "shell.execute_reply.started": "2021-07-08T12:46:03.041832Z"
    },
    "papermill": {
     "duration": 0.242829,
     "end_time": "2021-07-08T12:46:58.347855",
     "exception": false,
     "start_time": "2021-07-08T12:46:58.105026",
     "status": "completed"
    },
    "tags": []
   },
   "outputs": [
    {
     "name": "stdout",
     "output_type": "stream",
     "text": [
      "% of null --> 5.5479452054794525\n"
     ]
    },
    {
     "data": {
      "image/png": "[encoded data removed]",
      "text/plain": [
       "<Figure size 432x288 with 1 Axes>"
      ]
     },
     "metadata": {
      "needs_background": "light"
     },
     "output_type": "display_data"
    }
   ],
   "source": [
    "null(dataset, 'GarageType', True)"
   ]
  },
  {
   "cell_type": "code",
   "execution_count": 133,
   "metadata": {
    "execution": {
     "iopub.execute_input": "2021-07-08T12:46:58.564688Z",
     "iopub.status.busy": "2021-07-08T12:46:58.563983Z",
     "iopub.status.idle": "2021-07-08T12:46:58.566785Z",
     "shell.execute_reply": "2021-07-08T12:46:58.566306Z",
     "shell.execute_reply.started": "2021-07-08T12:46:03.188514Z"
    },
    "papermill": {
     "duration": 0.114784,
     "end_time": "2021-07-08T12:46:58.566919",
     "exception": false,
     "start_time": "2021-07-08T12:46:58.452135",
     "status": "completed"
    },
    "tags": []
   },
   "outputs": [],
   "source": [
    "val = dataset['GarageType'].unique()[0]\n",
    "dataset['GarageType'].fillna(val, inplace=True)"
   ]
  },
  {
   "cell_type": "code",
   "execution_count": 134,
   "metadata": {
    "execution": {
     "iopub.execute_input": "2021-07-08T12:46:58.988191Z",
     "iopub.status.busy": "2021-07-08T12:46:58.987520Z",
     "iopub.status.idle": "2021-07-08T12:46:58.990185Z",
     "shell.execute_reply": "2021-07-08T12:46:58.990802Z",
     "shell.execute_reply.started": "2021-07-08T12:46:03.199419Z"
    },
    "papermill": {
     "duration": 0.112624,
     "end_time": "2021-07-08T12:46:58.990993",
     "exception": false,
     "start_time": "2021-07-08T12:46:58.878369",
     "status": "completed"
    },
    "tags": []
   },
   "outputs": [
    {
     "name": "stdout",
     "output_type": "stream",
     "text": [
      "% of null --> 5.5479452054794525\n"
     ]
    }
   ],
   "source": [
    "null(dataset, 'GarageYrBlt')"
   ]
  },
  {
   "cell_type": "code",
   "execution_count": 135,
   "metadata": {
    "execution": {
     "iopub.execute_input": "2021-07-08T12:46:59.204727Z",
     "iopub.status.busy": "2021-07-08T12:46:59.204101Z",
     "iopub.status.idle": "2021-07-08T12:47:00.516690Z",
     "shell.execute_reply": "2021-07-08T12:47:00.517245Z",
     "shell.execute_reply.started": "2021-07-08T12:46:03.209609Z"
    },
    "papermill": {
     "duration": 1.42221,
     "end_time": "2021-07-08T12:47:00.517459",
     "exception": false,
     "start_time": "2021-07-08T12:46:59.095249",
     "status": "completed"
    },
    "tags": []
   },
   "outputs": [
    {
     "data": {
      "image/png": "[encoded data removed]",
      "text/plain": [
       "<Figure size 1296x576 with 1 Axes>"
      ]
     },
     "metadata": {
      "needs_background": "light"
     },
     "output_type": "display_data"
    }
   ],
   "source": [
    "plt.figure(figsize=(18,8))\n",
    "sns.countplot(dataset['GarageYrBlt'], palette='rainbow')\n",
    "plt.xticks(rotation=45)\n",
    "plt.show()"
   ]
  },
  {
   "cell_type": "code",
   "execution_count": 136,
   "metadata": {
    "execution": {
     "iopub.execute_input": "2021-07-08T12:47:00.725932Z",
     "iopub.status.busy": "2021-07-08T12:47:00.725363Z",
     "iopub.status.idle": "2021-07-08T12:47:00.730436Z",
     "shell.execute_reply": "2021-07-08T12:47:00.730930Z",
     "shell.execute_reply.started": "2021-07-08T12:46:04.587946Z"
    },
    "papermill": {
     "duration": 0.109918,
     "end_time": "2021-07-08T12:47:00.731120",
     "exception": false,
     "start_time": "2021-07-08T12:47:00.621202",
     "status": "completed"
    },
    "tags": []
   },
   "outputs": [],
   "source": [
    "dataset['GarageYrBlt'].fillna('2005.0', inplace= True)"
   ]
  },
  {
   "cell_type": "code",
   "execution_count": 137,
   "metadata": {
    "execution": {
     "iopub.execute_input": "2021-07-08T12:47:01.145558Z",
     "iopub.status.busy": "2021-07-08T12:47:01.144901Z",
     "iopub.status.idle": "2021-07-08T12:47:01.261027Z",
     "shell.execute_reply": "2021-07-08T12:47:01.261454Z",
     "shell.execute_reply.started": "2021-07-08T12:46:04.596621Z"
    },
    "papermill": {
     "duration": 0.222512,
     "end_time": "2021-07-08T12:47:01.261616",
     "exception": false,
     "start_time": "2021-07-08T12:47:01.039104",
     "status": "completed"
    },
    "tags": []
   },
   "outputs": [
    {
     "name": "stdout",
     "output_type": "stream",
     "text": [
      "% of null --> 5.5479452054794525\n"
     ]
    },
    {
     "data": {
      "image/png": "[encoded data removed]",
      "text/plain": [
       "<Figure size 432x288 with 1 Axes>"
      ]
     },
     "metadata": {
      "needs_background": "light"
     },
     "output_type": "display_data"
    }
   ],
   "source": [
    "null(dataset, 'GarageFinish', True)"
   ]
  },
  {
   "cell_type": "code",
   "execution_count": 138,
   "metadata": {
    "execution": {
     "iopub.execute_input": "2021-07-08T12:47:01.478260Z",
     "iopub.status.busy": "2021-07-08T12:47:01.477642Z",
     "iopub.status.idle": "2021-07-08T12:47:01.481881Z",
     "shell.execute_reply": "2021-07-08T12:47:01.481293Z",
     "shell.execute_reply.started": "2021-07-08T12:46:04.723336Z"
    },
    "papermill": {
     "duration": 0.114983,
     "end_time": "2021-07-08T12:47:01.482020",
     "exception": false,
     "start_time": "2021-07-08T12:47:01.367037",
     "status": "completed"
    },
    "tags": []
   },
   "outputs": [],
   "source": [
    "dataset['GarageFinish'].fillna(dataset['GarageFinish'].unique()[1], inplace=True)"
   ]
  },
  {
   "cell_type": "code",
   "execution_count": 139,
   "metadata": {
    "execution": {
     "iopub.execute_input": "2021-07-08T12:47:01.910378Z",
     "iopub.status.busy": "2021-07-08T12:47:01.909406Z",
     "iopub.status.idle": "2021-07-08T12:47:02.036521Z",
     "shell.execute_reply": "2021-07-08T12:47:02.037038Z",
     "shell.execute_reply.started": "2021-07-08T12:46:04.730592Z"
    },
    "papermill": {
     "duration": 0.242639,
     "end_time": "2021-07-08T12:47:02.037217",
     "exception": false,
     "start_time": "2021-07-08T12:47:01.794578",
     "status": "completed"
    },
    "tags": []
   },
   "outputs": [
    {
     "name": "stdout",
     "output_type": "stream",
     "text": [
      "% of null --> 5.5479452054794525\n"
     ]
    },
    {
     "data": {
      "image/png": "[encoded data removed]",
      "text/plain": [
       "<Figure size 432x288 with 1 Axes>"
      ]
     },
     "metadata": {
      "needs_background": "light"
     },
     "output_type": "display_data"
    }
   ],
   "source": [
    "null(dataset, 'GarageQual', True)"
   ]
  },
  {
   "cell_type": "code",
   "execution_count": 140,
   "metadata": {
    "execution": {
     "iopub.execute_input": "2021-07-08T12:47:02.258275Z",
     "iopub.status.busy": "2021-07-08T12:47:02.257614Z",
     "iopub.status.idle": "2021-07-08T12:47:02.260588Z",
     "shell.execute_reply": "2021-07-08T12:47:02.260086Z",
     "shell.execute_reply.started": "2021-07-08T12:46:04.876826Z"
    },
    "papermill": {
     "duration": 0.115447,
     "end_time": "2021-07-08T12:47:02.260715",
     "exception": false,
     "start_time": "2021-07-08T12:47:02.145268",
     "status": "completed"
    },
    "tags": []
   },
   "outputs": [],
   "source": [
    "dataset['GarageQual'].fillna(dataset['GarageQual'].unique()[0], inplace=True)"
   ]
  },
  {
   "cell_type": "code",
   "execution_count": 141,
   "metadata": {
    "execution": {
     "iopub.execute_input": "2021-07-08T12:47:02.699205Z",
     "iopub.status.busy": "2021-07-08T12:47:02.698525Z",
     "iopub.status.idle": "2021-07-08T12:47:02.824920Z",
     "shell.execute_reply": "2021-07-08T12:47:02.824444Z",
     "shell.execute_reply.started": "2021-07-08T12:46:04.884726Z"
    },
    "papermill": {
     "duration": 0.241857,
     "end_time": "2021-07-08T12:47:02.825106",
     "exception": false,
     "start_time": "2021-07-08T12:47:02.583249",
     "status": "completed"
    },
    "tags": []
   },
   "outputs": [
    {
     "name": "stdout",
     "output_type": "stream",
     "text": [
      "% of null --> 5.5479452054794525\n"
     ]
    },
    {
     "data": {
      "image/png": "[encoded data removed]",
      "text/plain": [
       "<Figure size 432x288 with 1 Axes>"
      ]
     },
     "metadata": {
      "needs_background": "light"
     },
     "output_type": "display_data"
    }
   ],
   "source": [
    "null(dataset, 'GarageCond', True)"
   ]
  },
  {
   "cell_type": "code",
   "execution_count": 142,
   "metadata": {
    "execution": {
     "iopub.execute_input": "2021-07-08T12:47:03.048963Z",
     "iopub.status.busy": "2021-07-08T12:47:03.047908Z",
     "iopub.status.idle": "2021-07-08T12:47:03.051007Z",
     "shell.execute_reply": "2021-07-08T12:47:03.050462Z",
     "shell.execute_reply.started": "2021-07-08T12:46:05.038586Z"
    },
    "papermill": {
     "duration": 0.118005,
     "end_time": "2021-07-08T12:47:03.051143",
     "exception": false,
     "start_time": "2021-07-08T12:47:02.933138",
     "status": "completed"
    },
    "tags": []
   },
   "outputs": [],
   "source": [
    "dataset['GarageCond'].fillna(dataset['GarageCond'].unique()[0], inplace=True)"
   ]
  },
  {
   "cell_type": "code",
   "execution_count": 143,
   "metadata": {
    "execution": {
     "iopub.execute_input": "2021-07-08T12:47:03.513288Z",
     "iopub.status.busy": "2021-07-08T12:47:03.495508Z",
     "iopub.status.idle": "2021-07-08T12:47:03.607434Z",
     "shell.execute_reply": "2021-07-08T12:47:03.607936Z",
     "shell.execute_reply.started": "2021-07-08T12:46:05.047702Z"
    },
    "papermill": {
     "duration": 0.228989,
     "end_time": "2021-07-08T12:47:03.608114",
     "exception": false,
     "start_time": "2021-07-08T12:47:03.379125",
     "status": "completed"
    },
    "tags": []
   },
   "outputs": [
    {
     "name": "stdout",
     "output_type": "stream",
     "text": [
      "% of null --> 99.52054794520548\n"
     ]
    },
    {
     "data": {
      "image/png": "[encoded data removed]",
      "text/plain": [
       "<Figure size 432x288 with 1 Axes>"
      ]
     },
     "metadata": {
      "needs_background": "light"
     },
     "output_type": "display_data"
    }
   ],
   "source": [
    "null(dataset, 'PoolQC', True)"
   ]
  },
  {
   "cell_type": "code",
   "execution_count": 144,
   "metadata": {
    "execution": {
     "iopub.execute_input": "2021-07-08T12:47:04.036507Z",
     "iopub.status.busy": "2021-07-08T12:47:04.035889Z",
     "iopub.status.idle": "2021-07-08T12:47:04.041501Z",
     "shell.execute_reply": "2021-07-08T12:47:04.040899Z",
     "shell.execute_reply.started": "2021-07-08T12:46:05.187643Z"
    },
    "papermill": {
     "duration": 0.116671,
     "end_time": "2021-07-08T12:47:04.041631",
     "exception": false,
     "start_time": "2021-07-08T12:47:03.924960",
     "status": "completed"
    },
    "tags": []
   },
   "outputs": [],
   "source": [
    "dataset.drop('PoolQC', axis=1, inplace= True)"
   ]
  },
  {
   "cell_type": "code",
   "execution_count": 145,
   "metadata": {
    "execution": {
     "iopub.execute_input": "2021-07-08T12:47:04.474163Z",
     "iopub.status.busy": "2021-07-08T12:47:04.473187Z",
     "iopub.status.idle": "2021-07-08T12:47:04.597491Z",
     "shell.execute_reply": "2021-07-08T12:47:04.597916Z",
     "shell.execute_reply.started": "2021-07-08T12:46:05.197098Z"
    },
    "papermill": {
     "duration": 0.239347,
     "end_time": "2021-07-08T12:47:04.598104",
     "exception": false,
     "start_time": "2021-07-08T12:47:04.358757",
     "status": "completed"
    },
    "tags": []
   },
   "outputs": [
    {
     "name": "stdout",
     "output_type": "stream",
     "text": [
      "% of null --> 80.75342465753424\n"
     ]
    },
    {
     "data": {
      "image/png": "[encoded data removed]",
      "text/plain": [
       "<Figure size 432x288 with 1 Axes>"
      ]
     },
     "metadata": {
      "needs_background": "light"
     },
     "output_type": "display_data"
    }
   ],
   "source": [
    "null(dataset, 'Fence', True)"
   ]
  },
  {
   "cell_type": "code",
   "execution_count": 146,
   "metadata": {
    "execution": {
     "iopub.execute_input": "2021-07-08T12:47:04.816577Z",
     "iopub.status.busy": "2021-07-08T12:47:04.815907Z",
     "iopub.status.idle": "2021-07-08T12:47:04.818842Z",
     "shell.execute_reply": "2021-07-08T12:47:04.818351Z",
     "shell.execute_reply.started": "2021-07-08T12:46:05.348837Z"
    },
    "papermill": {
     "duration": 0.114666,
     "end_time": "2021-07-08T12:47:04.818995",
     "exception": false,
     "start_time": "2021-07-08T12:47:04.704329",
     "status": "completed"
    },
    "tags": []
   },
   "outputs": [],
   "source": [
    "dataset['Fence'].fillna('None', inplace=True)"
   ]
  },
  {
   "cell_type": "code",
   "execution_count": 147,
   "metadata": {
    "execution": {
     "iopub.execute_input": "2021-07-08T12:47:05.262356Z",
     "iopub.status.busy": "2021-07-08T12:47:05.261678Z",
     "iopub.status.idle": "2021-07-08T12:47:05.378388Z",
     "shell.execute_reply": "2021-07-08T12:47:05.378830Z",
     "shell.execute_reply.started": "2021-07-08T12:46:05.356837Z"
    },
    "papermill": {
     "duration": 0.235495,
     "end_time": "2021-07-08T12:47:05.379023",
     "exception": false,
     "start_time": "2021-07-08T12:47:05.143528",
     "status": "completed"
    },
    "tags": []
   },
   "outputs": [
    {
     "name": "stdout",
     "output_type": "stream",
     "text": [
      "% of null --> 96.30136986301369\n"
     ]
    },
    {
     "data": {
      "image/png": "[encoded data removed]",
      "text/plain": [
       "<Figure size 432x288 with 1 Axes>"
      ]
     },
     "metadata": {
      "needs_background": "light"
     },
     "output_type": "display_data"
    }
   ],
   "source": [
    "null(dataset, 'MiscFeature', True)"
   ]
  },
  {
   "cell_type": "code",
   "execution_count": 148,
   "metadata": {
    "execution": {
     "iopub.execute_input": "2021-07-08T12:47:05.831911Z",
     "iopub.status.busy": "2021-07-08T12:47:05.830998Z",
     "iopub.status.idle": "2021-07-08T12:47:05.834283Z",
     "shell.execute_reply": "2021-07-08T12:47:05.833651Z",
     "shell.execute_reply.started": "2021-07-08T12:46:05.493231Z"
    },
    "papermill": {
     "duration": 0.12127,
     "end_time": "2021-07-08T12:47:05.834430",
     "exception": false,
     "start_time": "2021-07-08T12:47:05.713160",
     "status": "completed"
    },
    "tags": []
   },
   "outputs": [],
   "source": [
    "dataset.drop('MiscFeature', axis=1, inplace=True)"
   ]
  },
  {
   "cell_type": "code",
   "execution_count": 149,
   "metadata": {
    "execution": {
     "iopub.execute_input": "2021-07-08T12:47:06.107831Z",
     "iopub.status.busy": "2021-07-08T12:47:06.106863Z",
     "iopub.status.idle": "2021-07-08T12:47:06.112019Z",
     "shell.execute_reply": "2021-07-08T12:47:06.111458Z",
     "shell.execute_reply.started": "2021-07-08T12:46:05.501595Z"
    },
    "papermill": {
     "duration": 0.166133,
     "end_time": "2021-07-08T12:47:06.112157",
     "exception": false,
     "start_time": "2021-07-08T12:47:05.946024",
     "status": "completed"
    },
    "tags": []
   },
   "outputs": [
    {
     "data": {
      "text/html": [
       "<div>\n",
       "<style scoped>\n",
       "    .dataframe tbody tr th:only-of-type {\n",
       "        vertical-align: middle;\n",
       "    }\n",
       "\n",
       "    .dataframe tbody tr th {\n",
       "        vertical-align: top;\n",
       "    }\n",
       "\n",
       "    .dataframe thead th {\n",
       "        text-align: right;\n",
       "    }\n",
       "</style>\n",
       "<table border=\"1\" class=\"dataframe\">\n",
       "  <thead>\n",
       "    <tr style=\"text-align: right;\">\n",
       "      <th></th>\n",
       "      <th>Id</th>\n",
       "      <th>MSSubClass</th>\n",
       "      <th>MSZoning</th>\n",
       "      <th>LotFrontage</th>\n",
       "      <th>LotArea</th>\n",
       "      <th>Street</th>\n",
       "      <th>LotShape</th>\n",
       "      <th>LandContour</th>\n",
       "      <th>Utilities</th>\n",
       "      <th>LotConfig</th>\n",
       "      <th>...</th>\n",
       "      <th>3SsnPorch</th>\n",
       "      <th>ScreenPorch</th>\n",
       "      <th>PoolArea</th>\n",
       "      <th>Fence</th>\n",
       "      <th>MiscVal</th>\n",
       "      <th>MoSold</th>\n",
       "      <th>YrSold</th>\n",
       "      <th>SaleType</th>\n",
       "      <th>SaleCondition</th>\n",
       "      <th>SalePrice</th>\n",
       "    </tr>\n",
       "  </thead>\n",
       "  <tbody>\n",
       "    <tr>\n",
       "      <th>0</th>\n",
       "      <td>1</td>\n",
       "      <td>60</td>\n",
       "      <td>RL</td>\n",
       "      <td>65.0</td>\n",
       "      <td>8450</td>\n",
       "      <td>Pave</td>\n",
       "      <td>Reg</td>\n",
       "      <td>Lvl</td>\n",
       "      <td>AllPub</td>\n",
       "      <td>Inside</td>\n",
       "      <td>...</td>\n",
       "      <td>0</td>\n",
       "      <td>0</td>\n",
       "      <td>0</td>\n",
       "      <td>None</td>\n",
       "      <td>0</td>\n",
       "      <td>2</td>\n",
       "      <td>2008</td>\n",
       "      <td>WD</td>\n",
       "      <td>Normal</td>\n",
       "      <td>208500</td>\n",
       "    </tr>\n",
       "    <tr>\n",
       "      <th>1</th>\n",
       "      <td>2</td>\n",
       "      <td>20</td>\n",
       "      <td>RL</td>\n",
       "      <td>80.0</td>\n",
       "      <td>9600</td>\n",
       "      <td>Pave</td>\n",
       "      <td>Reg</td>\n",
       "      <td>Lvl</td>\n",
       "      <td>AllPub</td>\n",
       "      <td>FR2</td>\n",
       "      <td>...</td>\n",
       "      <td>0</td>\n",
       "      <td>0</td>\n",
       "      <td>0</td>\n",
       "      <td>None</td>\n",
       "      <td>0</td>\n",
       "      <td>5</td>\n",
       "      <td>2007</td>\n",
       "      <td>WD</td>\n",
       "      <td>Normal</td>\n",
       "      <td>181500</td>\n",
       "    </tr>\n",
       "  </tbody>\n",
       "</table>\n",
       "<p>2 rows × 78 columns</p>\n",
       "</div>"
      ],
      "text/plain": [
       "   Id  MSSubClass MSZoning  LotFrontage  LotArea Street LotShape LandContour  \\\n",
       "0   1          60       RL         65.0     8450   Pave      Reg         Lvl   \n",
       "1   2          20       RL         80.0     9600   Pave      Reg         Lvl   \n",
       "\n",
       "  Utilities LotConfig  ... 3SsnPorch ScreenPorch PoolArea Fence MiscVal  \\\n",
       "0    AllPub    Inside  ...         0           0        0  None       0   \n",
       "1    AllPub       FR2  ...         0           0        0  None       0   \n",
       "\n",
       "  MoSold  YrSold  SaleType  SaleCondition  SalePrice  \n",
       "0      2    2008        WD         Normal     208500  \n",
       "1      5    2007        WD         Normal     181500  \n",
       "\n",
       "[2 rows x 78 columns]"
      ]
     },
     "execution_count": 149,
     "metadata": {},
     "output_type": "execute_result"
    }
   ],
   "source": [
    "dataset.head(2)"
   ]
  },
  {
   "cell_type": "code",
   "execution_count": 150,
   "metadata": {
    "execution": {
     "iopub.execute_input": "2021-07-08T12:47:06.343183Z",
     "iopub.status.busy": "2021-07-08T12:47:06.342341Z",
     "iopub.status.idle": "2021-07-08T12:47:06.346564Z",
     "shell.execute_reply": "2021-07-08T12:47:06.345927Z",
     "shell.execute_reply.started": "2021-07-08T12:46:05.563461Z"
    },
    "papermill": {
     "duration": 0.12245,
     "end_time": "2021-07-08T12:47:06.346695",
     "exception": false,
     "start_time": "2021-07-08T12:47:06.224245",
     "status": "completed"
    },
    "tags": []
   },
   "outputs": [
    {
     "data": {
      "text/plain": [
       "(1460, 78)"
      ]
     },
     "execution_count": 150,
     "metadata": {},
     "output_type": "execute_result"
    }
   ],
   "source": [
    "dataset.shape"
   ]
  },
  {
   "cell_type": "code",
   "execution_count": 151,
   "metadata": {
    "execution": {
     "iopub.execute_input": "2021-07-08T12:47:06.577625Z",
     "iopub.status.busy": "2021-07-08T12:47:06.576757Z",
     "iopub.status.idle": "2021-07-08T12:47:06.580673Z",
     "shell.execute_reply": "2021-07-08T12:47:06.580071Z",
     "shell.execute_reply.started": "2021-07-08T12:46:05.575707Z"
    },
    "papermill": {
     "duration": 0.121622,
     "end_time": "2021-07-08T12:47:06.580802",
     "exception": false,
     "start_time": "2021-07-08T12:47:06.459180",
     "status": "completed"
    },
    "tags": []
   },
   "outputs": [
    {
     "data": {
      "text/plain": [
       "['Alley', 'MiscFeature', 'PoolQC']"
      ]
     },
     "execution_count": 151,
     "metadata": {},
     "output_type": "execute_result"
    }
   ],
   "source": [
    "dropped_col = list(set(train_data.columns) - set(dataset.columns))\n",
    "dropped_col"
   ]
  },
  {
   "cell_type": "code",
   "execution_count": 152,
   "metadata": {
    "execution": {
     "iopub.execute_input": "2021-07-08T12:47:07.052160Z",
     "iopub.status.busy": "2021-07-08T12:47:07.050342Z",
     "iopub.status.idle": "2021-07-08T12:47:07.186733Z",
     "shell.execute_reply": "2021-07-08T12:47:07.186180Z",
     "shell.execute_reply.started": "2021-07-08T12:46:05.587455Z"
    },
    "papermill": {
     "duration": 0.27467,
     "end_time": "2021-07-08T12:47:07.186865",
     "exception": false,
     "start_time": "2021-07-08T12:47:06.912195",
     "status": "completed"
    },
    "tags": []
   },
   "outputs": [
    {
     "data": {
      "text/plain": [
       "<matplotlib.collections.PathCollection at 0x23380071780>"
      ]
     },
     "execution_count": 152,
     "metadata": {},
     "output_type": "execute_result"
    },
    {
     "data": {
      "image/png": "[encoded data removed]",
      "text/plain": [
       "<Figure size 432x288 with 1 Axes>"
      ]
     },
     "metadata": {
      "needs_background": "light"
     },
     "output_type": "display_data"
    }
   ],
   "source": [
    "plt.scatter(dataset['LotFrontage'], dataset['SalePrice'])"
   ]
  },
  {
   "cell_type": "code",
   "execution_count": 153,
   "metadata": {
    "execution": {
     "iopub.execute_input": "2021-07-08T12:47:07.465646Z",
     "iopub.status.busy": "2021-07-08T12:47:07.464975Z",
     "iopub.status.idle": "2021-07-08T12:47:07.599574Z",
     "shell.execute_reply": "2021-07-08T12:47:07.598904Z",
     "shell.execute_reply.started": "2021-07-08T12:46:05.753573Z"
    },
    "papermill": {
     "duration": 0.282165,
     "end_time": "2021-07-08T12:47:07.599729",
     "exception": false,
     "start_time": "2021-07-08T12:47:07.317564",
     "status": "completed"
    },
    "tags": []
   },
   "outputs": [
    {
     "data": {
      "text/plain": [
       "<matplotlib.collections.PathCollection at 0x2338014d0f0>"
      ]
     },
     "execution_count": 153,
     "metadata": {},
     "output_type": "execute_result"
    },
    {
     "data": {
      "image/png": "[encoded data removed]",
      "text/plain": [
       "<Figure size 432x288 with 1 Axes>"
      ]
     },
     "metadata": {
      "needs_background": "light"
     },
     "output_type": "display_data"
    }
   ],
   "source": [
    "plt.scatter(dataset['MasVnrArea'], dataset['SalePrice'])"
   ]
  },
  {
   "cell_type": "code",
   "execution_count": 154,
   "metadata": {
    "execution": {
     "iopub.execute_input": "2021-07-08T12:47:07.863626Z",
     "iopub.status.busy": "2021-07-08T12:47:07.862583Z",
     "iopub.status.idle": "2021-07-08T12:47:07.974777Z",
     "shell.execute_reply": "2021-07-08T12:47:07.974260Z",
     "shell.execute_reply.started": "2021-07-08T12:46:05.926023Z"
    },
    "papermill": {
     "duration": 0.257943,
     "end_time": "2021-07-08T12:47:07.974907",
     "exception": false,
     "start_time": "2021-07-08T12:47:07.716964",
     "status": "completed"
    },
    "tags": []
   },
   "outputs": [
    {
     "data": {
      "text/plain": [
       "<matplotlib.collections.PathCollection at 0x233806f30f0>"
      ]
     },
     "execution_count": 154,
     "metadata": {},
     "output_type": "execute_result"
    },
    {
     "data": {
      "image/png": "[encoded data removed]",
      "text/plain": [
       "<Figure size 432x288 with 1 Axes>"
      ]
     },
     "metadata": {
      "needs_background": "light"
     },
     "output_type": "display_data"
    }
   ],
   "source": [
    "plt.scatter(dataset['GarageCond'], dataset['SalePrice'])"
   ]
  },
  {
   "cell_type": "code",
   "execution_count": 155,
   "metadata": {
    "execution": {
     "iopub.execute_input": "2021-07-08T12:47:08.211270Z",
     "iopub.status.busy": "2021-07-08T12:47:08.210523Z",
     "iopub.status.idle": "2021-07-08T12:47:08.214422Z",
     "shell.execute_reply": "2021-07-08T12:47:08.214845Z",
     "shell.execute_reply.started": "2021-07-08T12:46:06.068134Z"
    },
    "papermill": {
     "duration": 0.126014,
     "end_time": "2021-07-08T12:47:08.215028",
     "exception": false,
     "start_time": "2021-07-08T12:47:08.089014",
     "status": "completed"
    },
    "tags": []
   },
   "outputs": [
    {
     "data": {
      "text/plain": [
       "TA    1407\n",
       "Fa      35\n",
       "Gd       9\n",
       "Po       7\n",
       "Ex       2\n",
       "Name: GarageCond, dtype: int64"
      ]
     },
     "execution_count": 155,
     "metadata": {},
     "output_type": "execute_result"
    }
   ],
   "source": [
    "dataset['GarageCond'].value_counts()"
   ]
  },
  {
   "cell_type": "code",
   "execution_count": 156,
   "metadata": {
    "execution": {
     "iopub.execute_input": "2021-07-08T12:47:08.691701Z",
     "iopub.status.busy": "2021-07-08T12:47:08.691036Z",
     "iopub.status.idle": "2021-07-08T12:47:08.695325Z",
     "shell.execute_reply": "2021-07-08T12:47:08.694686Z",
     "shell.execute_reply.started": "2021-07-08T12:46:06.077194Z"
    },
    "papermill": {
     "duration": 0.128134,
     "end_time": "2021-07-08T12:47:08.695458",
     "exception": false,
     "start_time": "2021-07-08T12:47:08.567324",
     "status": "completed"
    },
    "tags": []
   },
   "outputs": [
    {
     "data": {
      "text/plain": [
       "37"
      ]
     },
     "execution_count": 156,
     "metadata": {},
     "output_type": "execute_result"
    }
   ],
   "source": [
    "num_feat = [i for i in dataset.columns if dataset[i].dtypes != 'O']\n",
    "len(num_feat)"
   ]
  },
  {
   "cell_type": "code",
   "execution_count": 157,
   "metadata": {
    "execution": {
     "iopub.execute_input": "2021-07-08T12:47:08.968101Z",
     "iopub.status.busy": "2021-07-08T12:47:08.967438Z",
     "iopub.status.idle": "2021-07-08T12:47:08.972254Z",
     "shell.execute_reply": "2021-07-08T12:47:08.971609Z",
     "shell.execute_reply.started": "2021-07-08T12:46:06.094153Z"
    },
    "papermill": {
     "duration": 0.160235,
     "end_time": "2021-07-08T12:47:08.972402",
     "exception": false,
     "start_time": "2021-07-08T12:47:08.812167",
     "status": "completed"
    },
    "tags": []
   },
   "outputs": [
    {
     "data": {
      "text/html": [
       "<div>\n",
       "<style scoped>\n",
       "    .dataframe tbody tr th:only-of-type {\n",
       "        vertical-align: middle;\n",
       "    }\n",
       "\n",
       "    .dataframe tbody tr th {\n",
       "        vertical-align: top;\n",
       "    }\n",
       "\n",
       "    .dataframe thead th {\n",
       "        text-align: right;\n",
       "    }\n",
       "</style>\n",
       "<table border=\"1\" class=\"dataframe\">\n",
       "  <thead>\n",
       "    <tr style=\"text-align: right;\">\n",
       "      <th></th>\n",
       "      <th>BsmtFinType2</th>\n",
       "      <th>HeatingQC</th>\n",
       "      <th>GarageType</th>\n",
       "      <th>Fence</th>\n",
       "      <th>Exterior2nd</th>\n",
       "      <th>Exterior1st</th>\n",
       "      <th>GarageCond</th>\n",
       "      <th>Condition2</th>\n",
       "      <th>GarageFinish</th>\n",
       "      <th>BldgType</th>\n",
       "      <th>...</th>\n",
       "      <th>KitchenQual</th>\n",
       "      <th>Neighborhood</th>\n",
       "      <th>SaleCondition</th>\n",
       "      <th>BsmtQual</th>\n",
       "      <th>MSZoning</th>\n",
       "      <th>CentralAir</th>\n",
       "      <th>RoofStyle</th>\n",
       "      <th>ExterQual</th>\n",
       "      <th>ExterCond</th>\n",
       "      <th>Functional</th>\n",
       "    </tr>\n",
       "  </thead>\n",
       "  <tbody>\n",
       "    <tr>\n",
       "      <th>0</th>\n",
       "      <td>Unf</td>\n",
       "      <td>Ex</td>\n",
       "      <td>Attchd</td>\n",
       "      <td>None</td>\n",
       "      <td>VinylSd</td>\n",
       "      <td>VinylSd</td>\n",
       "      <td>TA</td>\n",
       "      <td>Norm</td>\n",
       "      <td>RFn</td>\n",
       "      <td>1Fam</td>\n",
       "      <td>...</td>\n",
       "      <td>Gd</td>\n",
       "      <td>CollgCr</td>\n",
       "      <td>Normal</td>\n",
       "      <td>Gd</td>\n",
       "      <td>RL</td>\n",
       "      <td>Y</td>\n",
       "      <td>Gable</td>\n",
       "      <td>Gd</td>\n",
       "      <td>TA</td>\n",
       "      <td>Typ</td>\n",
       "    </tr>\n",
       "    <tr>\n",
       "      <th>1</th>\n",
       "      <td>Unf</td>\n",
       "      <td>Ex</td>\n",
       "      <td>Attchd</td>\n",
       "      <td>None</td>\n",
       "      <td>MetalSd</td>\n",
       "      <td>MetalSd</td>\n",
       "      <td>TA</td>\n",
       "      <td>Norm</td>\n",
       "      <td>RFn</td>\n",
       "      <td>1Fam</td>\n",
       "      <td>...</td>\n",
       "      <td>TA</td>\n",
       "      <td>Veenker</td>\n",
       "      <td>Normal</td>\n",
       "      <td>Gd</td>\n",
       "      <td>RL</td>\n",
       "      <td>Y</td>\n",
       "      <td>Gable</td>\n",
       "      <td>TA</td>\n",
       "      <td>TA</td>\n",
       "      <td>Typ</td>\n",
       "    </tr>\n",
       "  </tbody>\n",
       "</table>\n",
       "<p>2 rows × 41 columns</p>\n",
       "</div>"
      ],
      "text/plain": [
       "  BsmtFinType2 HeatingQC GarageType Fence Exterior2nd Exterior1st GarageCond  \\\n",
       "0          Unf        Ex     Attchd  None     VinylSd     VinylSd         TA   \n",
       "1          Unf        Ex     Attchd  None     MetalSd     MetalSd         TA   \n",
       "\n",
       "  Condition2 GarageFinish BldgType  ... KitchenQual Neighborhood  \\\n",
       "0       Norm          RFn     1Fam  ...          Gd      CollgCr   \n",
       "1       Norm          RFn     1Fam  ...          TA      Veenker   \n",
       "\n",
       "  SaleCondition BsmtQual MSZoning CentralAir RoofStyle ExterQual ExterCond  \\\n",
       "0        Normal       Gd       RL          Y     Gable        Gd        TA   \n",
       "1        Normal       Gd       RL          Y     Gable        TA        TA   \n",
       "\n",
       "  Functional  \n",
       "0        Typ  \n",
       "1        Typ  \n",
       "\n",
       "[2 rows x 41 columns]"
      ]
     },
     "execution_count": 157,
     "metadata": {},
     "output_type": "execute_result"
    }
   ],
   "source": [
    "dataset[set(dataset.columns) - set(num_feat)].head(2)"
   ]
  },
  {
   "cell_type": "code",
   "execution_count": 158,
   "metadata": {
    "execution": {
     "iopub.execute_input": "2021-07-08T12:47:09.217196Z",
     "iopub.status.busy": "2021-07-08T12:47:09.216350Z",
     "iopub.status.idle": "2021-07-08T12:47:09.220472Z",
     "shell.execute_reply": "2021-07-08T12:47:09.219850Z",
     "shell.execute_reply.started": "2021-07-08T12:46:06.142159Z"
    },
    "papermill": {
     "duration": 0.130757,
     "end_time": "2021-07-08T12:47:09.220606",
     "exception": false,
     "start_time": "2021-07-08T12:47:09.089849",
     "status": "completed"
    },
    "tags": []
   },
   "outputs": [
    {
     "data": {
      "text/plain": [
       "BsmtFinType2     object\n",
       "HeatingQC        object\n",
       "GarageType       object\n",
       "Fence            object\n",
       "Exterior2nd      object\n",
       "Exterior1st      object\n",
       "GarageCond       object\n",
       "Condition2       object\n",
       "GarageFinish     object\n",
       "BldgType         object\n",
       "Electrical       object\n",
       "PavedDrive       object\n",
       "BsmtExposure     object\n",
       "RoofMatl         object\n",
       "Street           object\n",
       "BsmtFinType1     object\n",
       "LotShape         object\n",
       "Heating          object\n",
       "BsmtCond         object\n",
       "FireplaceQu      object\n",
       "GarageQual       object\n",
       "LandContour      object\n",
       "HouseStyle       object\n",
       "SaleType         object\n",
       "GarageYrBlt      object\n",
       "LandSlope        object\n",
       "Utilities        object\n",
       "LotConfig        object\n",
       "MasVnrType       object\n",
       "Foundation       object\n",
       "Condition1       object\n",
       "KitchenQual      object\n",
       "Neighborhood     object\n",
       "SaleCondition    object\n",
       "BsmtQual         object\n",
       "MSZoning         object\n",
       "CentralAir       object\n",
       "RoofStyle        object\n",
       "ExterQual        object\n",
       "ExterCond        object\n",
       "Functional       object\n",
       "dtype: object"
      ]
     },
     "execution_count": 158,
     "metadata": {},
     "output_type": "execute_result"
    }
   ],
   "source": [
    "dataset[set(dataset.columns) - set(num_feat)].dtypes"
   ]
  },
  {
   "cell_type": "code",
   "execution_count": 159,
   "metadata": {
    "execution": {
     "iopub.execute_input": "2021-07-08T12:47:09.460791Z",
     "iopub.status.busy": "2021-07-08T12:47:09.459847Z",
     "iopub.status.idle": "2021-07-08T12:47:09.462533Z",
     "shell.execute_reply": "2021-07-08T12:47:09.462971Z",
     "shell.execute_reply.started": "2021-07-08T12:46:06.159091Z"
    },
    "papermill": {
     "duration": 0.125609,
     "end_time": "2021-07-08T12:47:09.463135",
     "exception": false,
     "start_time": "2021-07-08T12:47:09.337526",
     "status": "completed"
    },
    "tags": []
   },
   "outputs": [],
   "source": [
    "dataset['GarageYrBlt'] = dataset['GarageYrBlt'].astype(float)\n",
    "dataset['GarageYrBlt'] = dataset['GarageYrBlt'].astype(int)"
   ]
  },
  {
   "cell_type": "code",
   "execution_count": 160,
   "metadata": {
    "execution": {
     "iopub.execute_input": "2021-07-08T12:47:09.929621Z",
     "iopub.status.busy": "2021-07-08T12:47:09.928626Z",
     "iopub.status.idle": "2021-07-08T12:47:09.933497Z",
     "shell.execute_reply": "2021-07-08T12:47:09.932974Z",
     "shell.execute_reply.started": "2021-07-08T12:46:06.173004Z"
    },
    "papermill": {
     "duration": 0.125063,
     "end_time": "2021-07-08T12:47:09.933638",
     "exception": false,
     "start_time": "2021-07-08T12:47:09.808575",
     "status": "completed"
    },
    "tags": []
   },
   "outputs": [],
   "source": [
    "cat_feat = dataset[set(dataset.columns) - set(num_feat)]"
   ]
  },
  {
   "cell_type": "code",
   "execution_count": 161,
   "metadata": {
    "execution": {
     "iopub.execute_input": "2021-07-08T12:47:10.189015Z",
     "iopub.status.busy": "2021-07-08T12:47:10.188156Z",
     "iopub.status.idle": "2021-07-08T12:47:10.192668Z",
     "shell.execute_reply": "2021-07-08T12:47:10.192185Z",
     "shell.execute_reply.started": "2021-07-08T12:46:06.189519Z"
    },
    "papermill": {
     "duration": 0.143451,
     "end_time": "2021-07-08T12:47:10.192792",
     "exception": false,
     "start_time": "2021-07-08T12:47:10.049341",
     "status": "completed"
    },
    "tags": []
   },
   "outputs": [
    {
     "data": {
      "text/html": [
       "<div>\n",
       "<style scoped>\n",
       "    .dataframe tbody tr th:only-of-type {\n",
       "        vertical-align: middle;\n",
       "    }\n",
       "\n",
       "    .dataframe tbody tr th {\n",
       "        vertical-align: top;\n",
       "    }\n",
       "\n",
       "    .dataframe thead th {\n",
       "        text-align: right;\n",
       "    }\n",
       "</style>\n",
       "<table border=\"1\" class=\"dataframe\">\n",
       "  <thead>\n",
       "    <tr style=\"text-align: right;\">\n",
       "      <th></th>\n",
       "      <th>Id</th>\n",
       "      <th>MSSubClass</th>\n",
       "      <th>LotFrontage</th>\n",
       "      <th>LotArea</th>\n",
       "      <th>OverallQual</th>\n",
       "      <th>OverallCond</th>\n",
       "      <th>YearBuilt</th>\n",
       "      <th>YearRemodAdd</th>\n",
       "      <th>MasVnrArea</th>\n",
       "      <th>BsmtFinSF1</th>\n",
       "      <th>...</th>\n",
       "      <th>WoodDeckSF</th>\n",
       "      <th>OpenPorchSF</th>\n",
       "      <th>EnclosedPorch</th>\n",
       "      <th>3SsnPorch</th>\n",
       "      <th>ScreenPorch</th>\n",
       "      <th>PoolArea</th>\n",
       "      <th>MiscVal</th>\n",
       "      <th>MoSold</th>\n",
       "      <th>YrSold</th>\n",
       "      <th>SalePrice</th>\n",
       "    </tr>\n",
       "  </thead>\n",
       "  <tbody>\n",
       "    <tr>\n",
       "      <th>0</th>\n",
       "      <td>1</td>\n",
       "      <td>60</td>\n",
       "      <td>65.0</td>\n",
       "      <td>8450</td>\n",
       "      <td>7</td>\n",
       "      <td>5</td>\n",
       "      <td>2003</td>\n",
       "      <td>2003</td>\n",
       "      <td>196.0</td>\n",
       "      <td>706</td>\n",
       "      <td>...</td>\n",
       "      <td>0</td>\n",
       "      <td>61</td>\n",
       "      <td>0</td>\n",
       "      <td>0</td>\n",
       "      <td>0</td>\n",
       "      <td>0</td>\n",
       "      <td>0</td>\n",
       "      <td>2</td>\n",
       "      <td>2008</td>\n",
       "      <td>208500</td>\n",
       "    </tr>\n",
       "    <tr>\n",
       "      <th>1</th>\n",
       "      <td>2</td>\n",
       "      <td>20</td>\n",
       "      <td>80.0</td>\n",
       "      <td>9600</td>\n",
       "      <td>6</td>\n",
       "      <td>8</td>\n",
       "      <td>1976</td>\n",
       "      <td>1976</td>\n",
       "      <td>0.0</td>\n",
       "      <td>978</td>\n",
       "      <td>...</td>\n",
       "      <td>298</td>\n",
       "      <td>0</td>\n",
       "      <td>0</td>\n",
       "      <td>0</td>\n",
       "      <td>0</td>\n",
       "      <td>0</td>\n",
       "      <td>0</td>\n",
       "      <td>5</td>\n",
       "      <td>2007</td>\n",
       "      <td>181500</td>\n",
       "    </tr>\n",
       "  </tbody>\n",
       "</table>\n",
       "<p>2 rows × 37 columns</p>\n",
       "</div>"
      ],
      "text/plain": [
       "   Id  MSSubClass  LotFrontage  LotArea  OverallQual  OverallCond  YearBuilt  \\\n",
       "0   1          60         65.0     8450            7            5       2003   \n",
       "1   2          20         80.0     9600            6            8       1976   \n",
       "\n",
       "   YearRemodAdd  MasVnrArea  BsmtFinSF1  ...  WoodDeckSF  OpenPorchSF  \\\n",
       "0          2003       196.0         706  ...           0           61   \n",
       "1          1976         0.0         978  ...         298            0   \n",
       "\n",
       "   EnclosedPorch  3SsnPorch  ScreenPorch  PoolArea  MiscVal  MoSold  YrSold  \\\n",
       "0              0          0            0         0        0       2    2008   \n",
       "1              0          0            0         0        0       5    2007   \n",
       "\n",
       "   SalePrice  \n",
       "0     208500  \n",
       "1     181500  \n",
       "\n",
       "[2 rows x 37 columns]"
      ]
     },
     "execution_count": 161,
     "metadata": {},
     "output_type": "execute_result"
    }
   ],
   "source": [
    "dataset[num_feat].head(2)"
   ]
  },
  {
   "cell_type": "code",
   "execution_count": 162,
   "metadata": {
    "execution": {
     "iopub.execute_input": "2021-07-08T12:47:10.436340Z",
     "iopub.status.busy": "2021-07-08T12:47:10.435681Z",
     "iopub.status.idle": "2021-07-08T12:47:10.441079Z",
     "shell.execute_reply": "2021-07-08T12:47:10.440581Z",
     "shell.execute_reply.started": "2021-07-08T12:46:06.218895Z"
    },
    "papermill": {
     "duration": 0.130738,
     "end_time": "2021-07-08T12:47:10.441216",
     "exception": false,
     "start_time": "2021-07-08T12:47:10.310478",
     "status": "completed"
    },
    "tags": []
   },
   "outputs": [
    {
     "data": {
      "text/plain": [
       "['LotFrontage', 'MasVnrArea']"
      ]
     },
     "execution_count": 162,
     "metadata": {},
     "output_type": "execute_result"
    }
   ],
   "source": [
    "float_feat = [i for i in num_feat if dataset[i].dtypes == 'float']\n",
    "float_feat"
   ]
  },
  {
   "cell_type": "code",
   "execution_count": 163,
   "metadata": {
    "execution": {
     "iopub.execute_input": "2021-07-08T12:47:10.684636Z",
     "iopub.status.busy": "2021-07-08T12:47:10.683977Z",
     "iopub.status.idle": "2021-07-08T12:47:10.722547Z",
     "shell.execute_reply": "2021-07-08T12:47:10.721632Z",
     "shell.execute_reply.started": "2021-07-08T12:46:06.229038Z"
    },
    "papermill": {
     "duration": 0.163443,
     "end_time": "2021-07-08T12:47:10.722736",
     "exception": false,
     "start_time": "2021-07-08T12:47:10.559293",
     "status": "completed"
    },
    "tags": []
   },
   "outputs": [
    {
     "name": "stdout",
     "output_type": "stream",
     "text": [
      "BsmtFinType2\n",
      "['Unf' 'BLQ' 'ALQ' 'Rec' 'LwQ' 'GLQ']\n",
      "------------------------------------\n",
      "HeatingQC\n",
      "['Ex' 'Gd' 'TA' 'Fa' 'Po']\n",
      "------------------------------------\n",
      "GarageType\n",
      "['Attchd' 'Detchd' 'BuiltIn' 'CarPort' 'Basment' '2Types']\n",
      "------------------------------------\n",
      "Fence\n",
      "['None' 'MnPrv' 'GdWo' 'GdPrv' 'MnWw']\n",
      "------------------------------------\n",
      "Exterior2nd\n",
      "['VinylSd' 'MetalSd' 'Wd Shng' 'HdBoard' 'Plywood' 'Wd Sdng' 'CmentBd'\n",
      " 'BrkFace' 'Stucco' 'AsbShng' 'Brk Cmn' 'ImStucc' 'AsphShn' 'Stone'\n",
      " 'Other' 'CBlock']\n",
      "------------------------------------\n",
      "Exterior1st\n",
      "['VinylSd' 'MetalSd' 'Wd Sdng' 'HdBoard' 'BrkFace' 'WdShing' 'CemntBd'\n",
      " 'Plywood' 'AsbShng' 'Stucco' 'BrkComm' 'AsphShn' 'Stone' 'ImStucc'\n",
      " 'CBlock']\n",
      "------------------------------------\n",
      "GarageCond\n",
      "['TA' 'Fa' 'Gd' 'Po' 'Ex']\n",
      "------------------------------------\n",
      "Condition2\n",
      "['Norm' 'Artery' 'RRNn' 'Feedr' 'PosN' 'PosA' 'RRAn' 'RRAe']\n",
      "------------------------------------\n",
      "GarageFinish\n",
      "['RFn' 'Unf' 'Fin']\n",
      "------------------------------------\n",
      "BldgType\n",
      "['1Fam' '2fmCon' 'Duplex' 'TwnhsE' 'Twnhs']\n",
      "------------------------------------\n",
      "Electrical\n",
      "['SBrkr' 'FuseF' 'FuseA' 'FuseP' 'Mix']\n",
      "------------------------------------\n",
      "PavedDrive\n",
      "['Y' 'N' 'P']\n",
      "------------------------------------\n",
      "BsmtExposure\n",
      "['No' 'Gd' 'Mn' 'Av']\n",
      "------------------------------------\n",
      "RoofMatl\n",
      "['CompShg' 'WdShngl' 'Metal' 'WdShake' 'Membran' 'Tar&Grv' 'Roll'\n",
      " 'ClyTile']\n",
      "------------------------------------\n",
      "Street\n",
      "['Pave' 'Grvl']\n",
      "------------------------------------\n",
      "BsmtFinType1\n",
      "['GLQ' 'ALQ' 'Unf' 'Rec' 'BLQ' 'LwQ']\n",
      "------------------------------------\n",
      "LotShape\n",
      "['Reg' 'IR1' 'IR2' 'IR3']\n",
      "------------------------------------\n",
      "Heating\n",
      "['GasA' 'GasW' 'Grav' 'Wall' 'OthW' 'Floor']\n",
      "------------------------------------\n",
      "BsmtCond\n",
      "['TA' 'Gd' 'Fa' 'Po']\n",
      "------------------------------------\n",
      "FireplaceQu\n",
      "['None' 'TA' 'Gd' 'Fa' 'Ex' 'Po']\n",
      "------------------------------------\n",
      "GarageQual\n",
      "['TA' 'Fa' 'Gd' 'Ex' 'Po']\n",
      "------------------------------------\n",
      "LandContour\n",
      "['Lvl' 'Bnk' 'Low' 'HLS']\n",
      "------------------------------------\n",
      "HouseStyle\n",
      "['2Story' '1Story' '1.5Fin' '1.5Unf' 'SFoyer' 'SLvl' '2.5Unf' '2.5Fin']\n",
      "------------------------------------\n",
      "SaleType\n",
      "['WD' 'New' 'COD' 'ConLD' 'ConLI' 'CWD' 'ConLw' 'Con' 'Oth']\n",
      "------------------------------------\n",
      "GarageYrBlt\n",
      "[2003 1976 2001 1998 2000 1993 2004 1973 1931 1939 1965 2005 1962 2006\n",
      " 1960 1991 1970 1967 1958 1930 2002 1968 2007 2008 1957 1920 1966 1959\n",
      " 1995 1954 1953 1983 1977 1997 1985 1963 1981 1964 1999 1935 1990 1945\n",
      " 1987 1989 1915 1956 1948 1974 2009 1950 1961 1921 1900 1979 1951 1969\n",
      " 1936 1975 1971 1923 1984 1926 1955 1986 1988 1916 1932 1972 1918 1980\n",
      " 1924 1996 1940 1949 1994 1910 1978 1982 1992 1925 1941 2010 1927 1947\n",
      " 1937 1942 1938 1952 1928 1922 1934 1906 1914 1946 1908 1929 1933]\n",
      "------------------------------------\n",
      "LandSlope\n",
      "['Gtl' 'Mod' 'Sev']\n",
      "------------------------------------\n",
      "Utilities\n",
      "['AllPub' 'NoSeWa']\n",
      "------------------------------------\n",
      "LotConfig\n",
      "['Inside' 'FR2' 'Corner' 'CulDSac' 'FR3']\n",
      "------------------------------------\n",
      "MasVnrType\n",
      "['BrkFace' 'None' 'Stone' 'BrkCmn']\n",
      "------------------------------------\n",
      "Foundation\n",
      "['PConc' 'CBlock' 'BrkTil' 'Wood' 'Slab' 'Stone']\n",
      "------------------------------------\n",
      "Condition1\n",
      "['Norm' 'Feedr' 'PosN' 'Artery' 'RRAe' 'RRNn' 'RRAn' 'PosA' 'RRNe']\n",
      "------------------------------------\n",
      "KitchenQual\n",
      "['Gd' 'TA' 'Ex' 'Fa']\n",
      "------------------------------------\n",
      "Neighborhood\n",
      "['CollgCr' 'Veenker' 'Crawfor' 'NoRidge' 'Mitchel' 'Somerst' 'NWAmes'\n",
      " 'OldTown' 'BrkSide' 'Sawyer' 'NridgHt' 'NAmes' 'SawyerW' 'IDOTRR'\n",
      " 'MeadowV' 'Edwards' 'Timber' 'Gilbert' 'StoneBr' 'ClearCr' 'NPkVill'\n",
      " 'Blmngtn' 'BrDale' 'SWISU' 'Blueste']\n",
      "------------------------------------\n",
      "SaleCondition\n",
      "['Normal' 'Abnorml' 'Partial' 'AdjLand' 'Alloca' 'Family']\n",
      "------------------------------------\n",
      "BsmtQual\n",
      "['Gd' 'TA' 'Ex' 'Fa']\n",
      "------------------------------------\n",
      "MSZoning\n",
      "['RL' 'RM' 'C (all)' 'FV' 'RH']\n",
      "------------------------------------\n",
      "CentralAir\n",
      "['Y' 'N']\n",
      "------------------------------------\n",
      "RoofStyle\n",
      "['Gable' 'Hip' 'Gambrel' 'Mansard' 'Flat' 'Shed']\n",
      "------------------------------------\n",
      "ExterQual\n",
      "['Gd' 'TA' 'Ex' 'Fa']\n",
      "------------------------------------\n",
      "ExterCond\n",
      "['TA' 'Gd' 'Fa' 'Po' 'Ex']\n",
      "------------------------------------\n",
      "Functional\n",
      "['Typ' 'Min1' 'Maj1' 'Min2' 'Mod' 'Maj2' 'Sev']\n",
      "------------------------------------\n"
     ]
    }
   ],
   "source": [
    "for i in cat_feat:\n",
    "    print(i)\n",
    "    print(dataset[i].unique())\n",
    "    print(\"------------------------------------\")"
   ]
  },
  {
   "cell_type": "code",
   "execution_count": 164,
   "metadata": {
    "execution": {
     "iopub.execute_input": "2021-07-08T12:47:11.205873Z",
     "iopub.status.busy": "2021-07-08T12:47:11.205215Z",
     "iopub.status.idle": "2021-07-08T12:47:11.596866Z",
     "shell.execute_reply": "2021-07-08T12:47:11.596206Z",
     "shell.execute_reply.started": "2021-07-08T12:46:06.270726Z"
    },
    "papermill": {
     "duration": 0.515383,
     "end_time": "2021-07-08T12:47:11.597026",
     "exception": false,
     "start_time": "2021-07-08T12:47:11.081643",
     "status": "completed"
    },
    "tags": []
   },
   "outputs": [],
   "source": [
    "from sklearn.preprocessing import LabelEncoder\n",
    "label = LabelEncoder()\n",
    "for i in cat_feat:\n",
    "    dataset[i] = label.fit_transform(dataset[i])"
   ]
  },
  {
   "cell_type": "code",
   "execution_count": 165,
   "metadata": {
    "execution": {
     "iopub.execute_input": "2021-07-08T12:47:11.845756Z",
     "iopub.status.busy": "2021-07-08T12:47:11.840399Z",
     "iopub.status.idle": "2021-07-08T12:47:11.873852Z",
     "shell.execute_reply": "2021-07-08T12:47:11.873227Z",
     "shell.execute_reply.started": "2021-07-08T12:46:06.320821Z"
    },
    "papermill": {
     "duration": 0.157908,
     "end_time": "2021-07-08T12:47:11.874006",
     "exception": false,
     "start_time": "2021-07-08T12:47:11.716098",
     "status": "completed"
    },
    "tags": []
   },
   "outputs": [
    {
     "data": {
      "text/html": [
       "<div>\n",
       "<style scoped>\n",
       "    .dataframe tbody tr th:only-of-type {\n",
       "        vertical-align: middle;\n",
       "    }\n",
       "\n",
       "    .dataframe tbody tr th {\n",
       "        vertical-align: top;\n",
       "    }\n",
       "\n",
       "    .dataframe thead th {\n",
       "        text-align: right;\n",
       "    }\n",
       "</style>\n",
       "<table border=\"1\" class=\"dataframe\">\n",
       "  <thead>\n",
       "    <tr style=\"text-align: right;\">\n",
       "      <th></th>\n",
       "      <th>Id</th>\n",
       "      <th>MSSubClass</th>\n",
       "      <th>MSZoning</th>\n",
       "      <th>LotFrontage</th>\n",
       "      <th>LotArea</th>\n",
       "      <th>Street</th>\n",
       "      <th>LotShape</th>\n",
       "      <th>LandContour</th>\n",
       "      <th>Utilities</th>\n",
       "      <th>LotConfig</th>\n",
       "      <th>...</th>\n",
       "      <th>3SsnPorch</th>\n",
       "      <th>ScreenPorch</th>\n",
       "      <th>PoolArea</th>\n",
       "      <th>Fence</th>\n",
       "      <th>MiscVal</th>\n",
       "      <th>MoSold</th>\n",
       "      <th>YrSold</th>\n",
       "      <th>SaleType</th>\n",
       "      <th>SaleCondition</th>\n",
       "      <th>SalePrice</th>\n",
       "    </tr>\n",
       "  </thead>\n",
       "  <tbody>\n",
       "    <tr>\n",
       "      <th>0</th>\n",
       "      <td>1</td>\n",
       "      <td>60</td>\n",
       "      <td>3</td>\n",
       "      <td>65.0</td>\n",
       "      <td>8450</td>\n",
       "      <td>1</td>\n",
       "      <td>3</td>\n",
       "      <td>3</td>\n",
       "      <td>0</td>\n",
       "      <td>4</td>\n",
       "      <td>...</td>\n",
       "      <td>0</td>\n",
       "      <td>0</td>\n",
       "      <td>0</td>\n",
       "      <td>4</td>\n",
       "      <td>0</td>\n",
       "      <td>2</td>\n",
       "      <td>2008</td>\n",
       "      <td>8</td>\n",
       "      <td>4</td>\n",
       "      <td>208500</td>\n",
       "    </tr>\n",
       "    <tr>\n",
       "      <th>1</th>\n",
       "      <td>2</td>\n",
       "      <td>20</td>\n",
       "      <td>3</td>\n",
       "      <td>80.0</td>\n",
       "      <td>9600</td>\n",
       "      <td>1</td>\n",
       "      <td>3</td>\n",
       "      <td>3</td>\n",
       "      <td>0</td>\n",
       "      <td>2</td>\n",
       "      <td>...</td>\n",
       "      <td>0</td>\n",
       "      <td>0</td>\n",
       "      <td>0</td>\n",
       "      <td>4</td>\n",
       "      <td>0</td>\n",
       "      <td>5</td>\n",
       "      <td>2007</td>\n",
       "      <td>8</td>\n",
       "      <td>4</td>\n",
       "      <td>181500</td>\n",
       "    </tr>\n",
       "  </tbody>\n",
       "</table>\n",
       "<p>2 rows × 78 columns</p>\n",
       "</div>"
      ],
      "text/plain": [
       "   Id  MSSubClass  MSZoning  LotFrontage  LotArea  Street  LotShape  \\\n",
       "0   1          60         3         65.0     8450       1         3   \n",
       "1   2          20         3         80.0     9600       1         3   \n",
       "\n",
       "   LandContour  Utilities  LotConfig  ...  3SsnPorch  ScreenPorch  PoolArea  \\\n",
       "0            3          0          4  ...          0            0         0   \n",
       "1            3          0          2  ...          0            0         0   \n",
       "\n",
       "   Fence  MiscVal  MoSold  YrSold  SaleType  SaleCondition  SalePrice  \n",
       "0      4        0       2    2008         8              4     208500  \n",
       "1      4        0       5    2007         8              4     181500  \n",
       "\n",
       "[2 rows x 78 columns]"
      ]
     },
     "execution_count": 165,
     "metadata": {},
     "output_type": "execute_result"
    }
   ],
   "source": [
    "dataset.head(2)"
   ]
  },
  {
   "cell_type": "code",
   "execution_count": 166,
   "metadata": {
    "execution": {
     "iopub.execute_input": "2021-07-08T12:47:12.125122Z",
     "iopub.status.busy": "2021-07-08T12:47:12.124152Z",
     "iopub.status.idle": "2021-07-08T12:47:12.128482Z",
     "shell.execute_reply": "2021-07-08T12:47:12.127826Z",
     "shell.execute_reply.started": "2021-07-08T12:46:06.360763Z"
    },
    "papermill": {
     "duration": 0.132883,
     "end_time": "2021-07-08T12:47:12.128619",
     "exception": false,
     "start_time": "2021-07-08T12:47:11.995736",
     "status": "completed"
    },
    "tags": []
   },
   "outputs": [
    {
     "data": {
      "text/plain": [
       "Id                 int64\n",
       "MSSubClass         int64\n",
       "MSZoning           int32\n",
       "LotFrontage      float64\n",
       "LotArea            int64\n",
       "Street             int32\n",
       "LotShape           int32\n",
       "LandContour        int32\n",
       "Utilities          int32\n",
       "LotConfig          int32\n",
       "LandSlope          int32\n",
       "Neighborhood       int32\n",
       "Condition1         int32\n",
       "Condition2         int32\n",
       "BldgType           int32\n",
       "HouseStyle         int32\n",
       "OverallQual        int64\n",
       "OverallCond        int64\n",
       "YearBuilt          int64\n",
       "YearRemodAdd       int64\n",
       "RoofStyle          int32\n",
       "RoofMatl           int32\n",
       "Exterior1st        int32\n",
       "Exterior2nd        int32\n",
       "MasVnrType         int32\n",
       "MasVnrArea       float64\n",
       "ExterQual          int32\n",
       "ExterCond          int32\n",
       "Foundation         int32\n",
       "BsmtQual           int32\n",
       "                  ...   \n",
       "FullBath           int64\n",
       "HalfBath           int64\n",
       "BedroomAbvGr       int64\n",
       "KitchenAbvGr       int64\n",
       "KitchenQual        int32\n",
       "TotRmsAbvGrd       int64\n",
       "Functional         int32\n",
       "Fireplaces         int64\n",
       "FireplaceQu        int32\n",
       "GarageType         int32\n",
       "GarageYrBlt        int64\n",
       "GarageFinish       int32\n",
       "GarageCars         int64\n",
       "GarageArea         int64\n",
       "GarageQual         int32\n",
       "GarageCond         int32\n",
       "PavedDrive         int32\n",
       "WoodDeckSF         int64\n",
       "OpenPorchSF        int64\n",
       "EnclosedPorch      int64\n",
       "3SsnPorch          int64\n",
       "ScreenPorch        int64\n",
       "PoolArea           int64\n",
       "Fence              int32\n",
       "MiscVal            int64\n",
       "MoSold             int64\n",
       "YrSold             int64\n",
       "SaleType           int32\n",
       "SaleCondition      int32\n",
       "SalePrice          int64\n",
       "Length: 78, dtype: object"
      ]
     },
     "execution_count": 166,
     "metadata": {},
     "output_type": "execute_result"
    }
   ],
   "source": [
    "dataset.dtypes"
   ]
  },
  {
   "cell_type": "code",
   "execution_count": 167,
   "metadata": {
    "execution": {
     "iopub.execute_input": "2021-07-08T12:47:12.374763Z",
     "iopub.status.busy": "2021-07-08T12:47:12.373884Z",
     "iopub.status.idle": "2021-07-08T12:47:12.414009Z",
     "shell.execute_reply": "2021-07-08T12:47:12.413339Z",
     "shell.execute_reply.started": "2021-07-08T12:46:06.372572Z"
    },
    "papermill": {
     "duration": 0.165137,
     "end_time": "2021-07-08T12:47:12.414150",
     "exception": false,
     "start_time": "2021-07-08T12:47:12.249013",
     "status": "completed"
    },
    "tags": []
   },
   "outputs": [],
   "source": [
    "dataset.to_csv('output.csv',header=True, index=False)"
   ]
  },
  {
   "cell_type": "code",
   "execution_count": 168,
   "metadata": {
    "execution": {
     "iopub.execute_input": "2021-07-08T12:47:12.661734Z",
     "iopub.status.busy": "2021-07-08T12:47:12.661114Z",
     "iopub.status.idle": "2021-07-08T12:47:12.713357Z",
     "shell.execute_reply": "2021-07-08T12:47:12.712748Z",
     "shell.execute_reply.started": "2021-07-08T12:46:06.414100Z"
    },
    "papermill": {
     "duration": 0.178263,
     "end_time": "2021-07-08T12:47:12.713496",
     "exception": false,
     "start_time": "2021-07-08T12:47:12.535233",
     "status": "completed"
    },
    "tags": []
   },
   "outputs": [
    {
     "data": {
      "text/html": [
       "<div>\n",
       "<style scoped>\n",
       "    .dataframe tbody tr th:only-of-type {\n",
       "        vertical-align: middle;\n",
       "    }\n",
       "\n",
       "    .dataframe tbody tr th {\n",
       "        vertical-align: top;\n",
       "    }\n",
       "\n",
       "    .dataframe thead th {\n",
       "        text-align: right;\n",
       "    }\n",
       "</style>\n",
       "<table border=\"1\" class=\"dataframe\">\n",
       "  <thead>\n",
       "    <tr style=\"text-align: right;\">\n",
       "      <th></th>\n",
       "      <th>Id</th>\n",
       "      <th>MSSubClass</th>\n",
       "      <th>MSZoning</th>\n",
       "      <th>LotFrontage</th>\n",
       "      <th>LotArea</th>\n",
       "      <th>Street</th>\n",
       "      <th>LotShape</th>\n",
       "      <th>LandContour</th>\n",
       "      <th>Utilities</th>\n",
       "      <th>LotConfig</th>\n",
       "      <th>...</th>\n",
       "      <th>3SsnPorch</th>\n",
       "      <th>ScreenPorch</th>\n",
       "      <th>PoolArea</th>\n",
       "      <th>Fence</th>\n",
       "      <th>MiscVal</th>\n",
       "      <th>MoSold</th>\n",
       "      <th>YrSold</th>\n",
       "      <th>SaleType</th>\n",
       "      <th>SaleCondition</th>\n",
       "      <th>SalePrice</th>\n",
       "    </tr>\n",
       "  </thead>\n",
       "  <tbody>\n",
       "    <tr>\n",
       "      <th>0</th>\n",
       "      <td>1</td>\n",
       "      <td>60</td>\n",
       "      <td>3</td>\n",
       "      <td>65.0</td>\n",
       "      <td>8450</td>\n",
       "      <td>1</td>\n",
       "      <td>3</td>\n",
       "      <td>3</td>\n",
       "      <td>0</td>\n",
       "      <td>4</td>\n",
       "      <td>...</td>\n",
       "      <td>0</td>\n",
       "      <td>0</td>\n",
       "      <td>0</td>\n",
       "      <td>4</td>\n",
       "      <td>0</td>\n",
       "      <td>2</td>\n",
       "      <td>2008</td>\n",
       "      <td>8</td>\n",
       "      <td>4</td>\n",
       "      <td>208500</td>\n",
       "    </tr>\n",
       "    <tr>\n",
       "      <th>1</th>\n",
       "      <td>2</td>\n",
       "      <td>20</td>\n",
       "      <td>3</td>\n",
       "      <td>80.0</td>\n",
       "      <td>9600</td>\n",
       "      <td>1</td>\n",
       "      <td>3</td>\n",
       "      <td>3</td>\n",
       "      <td>0</td>\n",
       "      <td>2</td>\n",
       "      <td>...</td>\n",
       "      <td>0</td>\n",
       "      <td>0</td>\n",
       "      <td>0</td>\n",
       "      <td>4</td>\n",
       "      <td>0</td>\n",
       "      <td>5</td>\n",
       "      <td>2007</td>\n",
       "      <td>8</td>\n",
       "      <td>4</td>\n",
       "      <td>181500</td>\n",
       "    </tr>\n",
       "  </tbody>\n",
       "</table>\n",
       "<p>2 rows × 78 columns</p>\n",
       "</div>"
      ],
      "text/plain": [
       "   Id  MSSubClass  MSZoning  LotFrontage  LotArea  Street  LotShape  \\\n",
       "0   1          60         3         65.0     8450       1         3   \n",
       "1   2          20         3         80.0     9600       1         3   \n",
       "\n",
       "   LandContour  Utilities  LotConfig  ...  3SsnPorch  ScreenPorch  PoolArea  \\\n",
       "0            3          0          4  ...          0            0         0   \n",
       "1            3          0          2  ...          0            0         0   \n",
       "\n",
       "   Fence  MiscVal  MoSold  YrSold  SaleType  SaleCondition  SalePrice  \n",
       "0      4        0       2    2008         8              4     208500  \n",
       "1      4        0       5    2007         8              4     181500  \n",
       "\n",
       "[2 rows x 78 columns]"
      ]
     },
     "execution_count": 168,
     "metadata": {},
     "output_type": "execute_result"
    }
   ],
   "source": [
    "final_dataset = pd.read_csv('output.csv')\n",
    "final_dataset.head(2)"
   ]
  },
  {
   "cell_type": "code",
   "execution_count": 169,
   "metadata": {
    "execution": {
     "iopub.execute_input": "2021-07-08T12:47:13.206733Z",
     "iopub.status.busy": "2021-07-08T12:47:13.206115Z",
     "iopub.status.idle": "2021-07-08T12:47:13.209024Z",
     "shell.execute_reply": "2021-07-08T12:47:13.208482Z",
     "shell.execute_reply.started": "2021-07-08T12:46:06.469411Z"
    },
    "papermill": {
     "duration": 0.130644,
     "end_time": "2021-07-08T12:47:13.209170",
     "exception": false,
     "start_time": "2021-07-08T12:47:13.078526",
     "status": "completed"
    },
    "tags": []
   },
   "outputs": [],
   "source": [
    "X_train = final_dataset.drop('SalePrice', axis=1)\n",
    "y_train = final_dataset['SalePrice']"
   ]
  },
  {
   "cell_type": "code",
   "execution_count": 170,
   "metadata": {
    "execution": {
     "iopub.execute_input": "2021-07-08T12:47:13.707801Z",
     "iopub.status.busy": "2021-07-08T12:47:13.707195Z",
     "iopub.status.idle": "2021-07-08T12:47:13.715860Z",
     "shell.execute_reply": "2021-07-08T12:47:13.715355Z",
     "shell.execute_reply.started": "2021-07-08T12:46:06.477225Z"
    },
    "papermill": {
     "duration": 0.137808,
     "end_time": "2021-07-08T12:47:13.716016",
     "exception": false,
     "start_time": "2021-07-08T12:47:13.578208",
     "status": "completed"
    },
    "tags": []
   },
   "outputs": [
    {
     "name": "stderr",
     "output_type": "stream",
     "text": [
      "C:\\Users\\Kaushal\\Anaconda3\\lib\\site-packages\\sklearn\\preprocessing\\data.py:645: DataConversionWarning: Data with input dtype int64, float64 were all converted to float64 by StandardScaler.\n",
      "  return self.partial_fit(X, y)\n",
      "C:\\Users\\Kaushal\\Anaconda3\\lib\\site-packages\\ipykernel_launcher.py:5: DataConversionWarning: Data with input dtype int64, float64 were all converted to float64 by StandardScaler.\n",
      "  \"\"\"\n"
     ]
    }
   ],
   "source": [
    "columns = X_train.columns\n",
    "from sklearn.preprocessing import StandardScaler\n",
    "scale = StandardScaler()\n",
    "scaled = scale.fit(X_train)\n",
    "X_train_scaled = pd.DataFrame(scale.transform(X_train), columns=columns)"
   ]
  },
  {
   "cell_type": "code",
   "execution_count": 171,
   "metadata": {
    "execution": {
     "iopub.execute_input": "2021-07-08T12:47:13.974878Z",
     "iopub.status.busy": "2021-07-08T12:47:13.969864Z",
     "iopub.status.idle": "2021-07-08T12:47:14.020365Z",
     "shell.execute_reply": "2021-07-08T12:47:14.020842Z",
     "shell.execute_reply.started": "2021-07-08T12:46:06.497466Z"
    },
    "papermill": {
     "duration": 0.183345,
     "end_time": "2021-07-08T12:47:14.021023",
     "exception": false,
     "start_time": "2021-07-08T12:47:13.837678",
     "status": "completed"
    },
    "tags": []
   },
   "outputs": [
    {
     "data": {
      "text/html": [
       "<div>\n",
       "<style scoped>\n",
       "    .dataframe tbody tr th:only-of-type {\n",
       "        vertical-align: middle;\n",
       "    }\n",
       "\n",
       "    .dataframe tbody tr th {\n",
       "        vertical-align: top;\n",
       "    }\n",
       "\n",
       "    .dataframe thead th {\n",
       "        text-align: right;\n",
       "    }\n",
       "</style>\n",
       "<table border=\"1\" class=\"dataframe\">\n",
       "  <thead>\n",
       "    <tr style=\"text-align: right;\">\n",
       "      <th></th>\n",
       "      <th>Id</th>\n",
       "      <th>MSSubClass</th>\n",
       "      <th>MSZoning</th>\n",
       "      <th>LotFrontage</th>\n",
       "      <th>LotArea</th>\n",
       "      <th>Street</th>\n",
       "      <th>LotShape</th>\n",
       "      <th>LandContour</th>\n",
       "      <th>Utilities</th>\n",
       "      <th>LotConfig</th>\n",
       "      <th>...</th>\n",
       "      <th>EnclosedPorch</th>\n",
       "      <th>3SsnPorch</th>\n",
       "      <th>ScreenPorch</th>\n",
       "      <th>PoolArea</th>\n",
       "      <th>Fence</th>\n",
       "      <th>MiscVal</th>\n",
       "      <th>MoSold</th>\n",
       "      <th>YrSold</th>\n",
       "      <th>SaleType</th>\n",
       "      <th>SaleCondition</th>\n",
       "    </tr>\n",
       "  </thead>\n",
       "  <tbody>\n",
       "    <tr>\n",
       "      <th>0</th>\n",
       "      <td>-1.730865</td>\n",
       "      <td>0.073375</td>\n",
       "      <td>-0.045532</td>\n",
       "      <td>-0.229372</td>\n",
       "      <td>-0.207142</td>\n",
       "      <td>0.064238</td>\n",
       "      <td>0.750731</td>\n",
       "      <td>0.314667</td>\n",
       "      <td>-0.02618</td>\n",
       "      <td>0.604670</td>\n",
       "      <td>...</td>\n",
       "      <td>-0.359325</td>\n",
       "      <td>-0.116339</td>\n",
       "      <td>-0.270208</td>\n",
       "      <td>-0.068692</td>\n",
       "      <td>0.457447</td>\n",
       "      <td>-0.087688</td>\n",
       "      <td>-1.599111</td>\n",
       "      <td>0.138777</td>\n",
       "      <td>0.313867</td>\n",
       "      <td>0.208502</td>\n",
       "    </tr>\n",
       "    <tr>\n",
       "      <th>1</th>\n",
       "      <td>-1.728492</td>\n",
       "      <td>-0.872563</td>\n",
       "      <td>-0.045532</td>\n",
       "      <td>0.451936</td>\n",
       "      <td>-0.091886</td>\n",
       "      <td>0.064238</td>\n",
       "      <td>0.750731</td>\n",
       "      <td>0.314667</td>\n",
       "      <td>-0.02618</td>\n",
       "      <td>-0.628316</td>\n",
       "      <td>...</td>\n",
       "      <td>-0.359325</td>\n",
       "      <td>-0.116339</td>\n",
       "      <td>-0.270208</td>\n",
       "      <td>-0.068692</td>\n",
       "      <td>0.457447</td>\n",
       "      <td>-0.087688</td>\n",
       "      <td>-0.489110</td>\n",
       "      <td>-0.614439</td>\n",
       "      <td>0.313867</td>\n",
       "      <td>0.208502</td>\n",
       "    </tr>\n",
       "  </tbody>\n",
       "</table>\n",
       "<p>2 rows × 77 columns</p>\n",
       "</div>"
      ],
      "text/plain": [
       "         Id  MSSubClass  MSZoning  LotFrontage   LotArea    Street  LotShape  \\\n",
       "0 -1.730865    0.073375 -0.045532    -0.229372 -0.207142  0.064238  0.750731   \n",
       "1 -1.728492   -0.872563 -0.045532     0.451936 -0.091886  0.064238  0.750731   \n",
       "\n",
       "   LandContour  Utilities  LotConfig  ...  EnclosedPorch  3SsnPorch  \\\n",
       "0     0.314667   -0.02618   0.604670  ...      -0.359325  -0.116339   \n",
       "1     0.314667   -0.02618  -0.628316  ...      -0.359325  -0.116339   \n",
       "\n",
       "   ScreenPorch  PoolArea     Fence   MiscVal    MoSold    YrSold  SaleType  \\\n",
       "0    -0.270208 -0.068692  0.457447 -0.087688 -1.599111  0.138777  0.313867   \n",
       "1    -0.270208 -0.068692  0.457447 -0.087688 -0.489110 -0.614439  0.313867   \n",
       "\n",
       "   SaleCondition  \n",
       "0       0.208502  \n",
       "1       0.208502  \n",
       "\n",
       "[2 rows x 77 columns]"
      ]
     },
     "execution_count": 171,
     "metadata": {},
     "output_type": "execute_result"
    }
   ],
   "source": [
    "X_train_scaled.head(2)"
   ]
  },
  {
   "cell_type": "code",
   "execution_count": 172,
   "metadata": {
    "execution": {
     "iopub.execute_input": "2021-07-08T12:47:14.510107Z",
     "iopub.status.busy": "2021-07-08T12:47:14.509503Z",
     "iopub.status.idle": "2021-07-08T12:47:14.595711Z",
     "shell.execute_reply": "2021-07-08T12:47:14.596177Z",
     "shell.execute_reply.started": "2021-07-08T12:46:06.563552Z"
    },
    "papermill": {
     "duration": 0.211997,
     "end_time": "2021-07-08T12:47:14.596344",
     "exception": false,
     "start_time": "2021-07-08T12:47:14.384347",
     "status": "completed"
    },
    "tags": []
   },
   "outputs": [
    {
     "data": {
      "text/html": [
       "<div>\n",
       "<style scoped>\n",
       "    .dataframe tbody tr th:only-of-type {\n",
       "        vertical-align: middle;\n",
       "    }\n",
       "\n",
       "    .dataframe tbody tr th {\n",
       "        vertical-align: top;\n",
       "    }\n",
       "\n",
       "    .dataframe thead th {\n",
       "        text-align: right;\n",
       "    }\n",
       "</style>\n",
       "<table border=\"1\" class=\"dataframe\">\n",
       "  <thead>\n",
       "    <tr style=\"text-align: right;\">\n",
       "      <th></th>\n",
       "      <th>Id</th>\n",
       "      <th>MSSubClass</th>\n",
       "      <th>MSZoning</th>\n",
       "      <th>LotFrontage</th>\n",
       "      <th>LotArea</th>\n",
       "      <th>Street</th>\n",
       "      <th>Alley</th>\n",
       "      <th>LotShape</th>\n",
       "      <th>LandContour</th>\n",
       "      <th>Utilities</th>\n",
       "      <th>...</th>\n",
       "      <th>ScreenPorch</th>\n",
       "      <th>PoolArea</th>\n",
       "      <th>PoolQC</th>\n",
       "      <th>Fence</th>\n",
       "      <th>MiscFeature</th>\n",
       "      <th>MiscVal</th>\n",
       "      <th>MoSold</th>\n",
       "      <th>YrSold</th>\n",
       "      <th>SaleType</th>\n",
       "      <th>SaleCondition</th>\n",
       "    </tr>\n",
       "  </thead>\n",
       "  <tbody>\n",
       "    <tr>\n",
       "      <th>0</th>\n",
       "      <td>1461</td>\n",
       "      <td>20</td>\n",
       "      <td>RH</td>\n",
       "      <td>80.0</td>\n",
       "      <td>11622</td>\n",
       "      <td>Pave</td>\n",
       "      <td>NaN</td>\n",
       "      <td>Reg</td>\n",
       "      <td>Lvl</td>\n",
       "      <td>AllPub</td>\n",
       "      <td>...</td>\n",
       "      <td>120</td>\n",
       "      <td>0</td>\n",
       "      <td>NaN</td>\n",
       "      <td>MnPrv</td>\n",
       "      <td>NaN</td>\n",
       "      <td>0</td>\n",
       "      <td>6</td>\n",
       "      <td>2010</td>\n",
       "      <td>WD</td>\n",
       "      <td>Normal</td>\n",
       "    </tr>\n",
       "    <tr>\n",
       "      <th>1</th>\n",
       "      <td>1462</td>\n",
       "      <td>20</td>\n",
       "      <td>RL</td>\n",
       "      <td>81.0</td>\n",
       "      <td>14267</td>\n",
       "      <td>Pave</td>\n",
       "      <td>NaN</td>\n",
       "      <td>IR1</td>\n",
       "      <td>Lvl</td>\n",
       "      <td>AllPub</td>\n",
       "      <td>...</td>\n",
       "      <td>0</td>\n",
       "      <td>0</td>\n",
       "      <td>NaN</td>\n",
       "      <td>NaN</td>\n",
       "      <td>Gar2</td>\n",
       "      <td>12500</td>\n",
       "      <td>6</td>\n",
       "      <td>2010</td>\n",
       "      <td>WD</td>\n",
       "      <td>Normal</td>\n",
       "    </tr>\n",
       "  </tbody>\n",
       "</table>\n",
       "<p>2 rows × 80 columns</p>\n",
       "</div>"
      ],
      "text/plain": [
       "     Id  MSSubClass MSZoning  LotFrontage  LotArea Street Alley LotShape  \\\n",
       "0  1461          20       RH         80.0    11622   Pave   NaN      Reg   \n",
       "1  1462          20       RL         81.0    14267   Pave   NaN      IR1   \n",
       "\n",
       "  LandContour Utilities  ... ScreenPorch PoolArea PoolQC  Fence MiscFeature  \\\n",
       "0         Lvl    AllPub  ...         120        0    NaN  MnPrv         NaN   \n",
       "1         Lvl    AllPub  ...           0        0    NaN    NaN        Gar2   \n",
       "\n",
       "  MiscVal MoSold  YrSold  SaleType  SaleCondition  \n",
       "0       0      6    2010        WD         Normal  \n",
       "1   12500      6    2010        WD         Normal  \n",
       "\n",
       "[2 rows x 80 columns]"
      ]
     },
     "execution_count": 172,
     "metadata": {},
     "output_type": "execute_result"
    }
   ],
   "source": [
    "test_data = pd.read_csv('test.csv')\n",
    "test_data.head(2)"
   ]
  },
  {
   "cell_type": "code",
   "execution_count": 173,
   "metadata": {
    "execution": {
     "iopub.execute_input": "2021-07-08T12:47:14.840770Z",
     "iopub.status.busy": "2021-07-08T12:47:14.839799Z",
     "iopub.status.idle": "2021-07-08T12:47:14.845566Z",
     "shell.execute_reply": "2021-07-08T12:47:14.846151Z",
     "shell.execute_reply.started": "2021-07-08T12:46:06.649788Z"
    },
    "papermill": {
     "duration": 0.130264,
     "end_time": "2021-07-08T12:47:14.846311",
     "exception": false,
     "start_time": "2021-07-08T12:47:14.716047",
     "status": "completed"
    },
    "tags": []
   },
   "outputs": [],
   "source": [
    "test_data.drop(dropped_col, axis=1, inplace=True)"
   ]
  },
  {
   "cell_type": "code",
   "execution_count": null,
   "metadata": {
    "execution": {
     "iopub.execute_input": "2021-07-08T12:47:15.091851Z",
     "iopub.status.busy": "2021-07-08T12:47:15.090906Z",
     "iopub.status.idle": "2021-07-08T12:47:15.137152Z",
     "shell.execute_reply": "2021-07-08T12:47:15.136583Z",
     "shell.execute_reply.started": "2021-07-08T12:46:06.658492Z"
    },
    "papermill": {
     "duration": 0.169964,
     "end_time": "2021-07-08T12:47:15.137306",
     "exception": false,
     "start_time": "2021-07-08T12:47:14.967342",
     "status": "completed"
    },
    "tags": []
   },
   "outputs": [],
   "source": []
  },
  {
   "cell_type": "code",
   "execution_count": 174,
   "metadata": {
    "execution": {
     "iopub.execute_input": "2021-07-08T12:47:15.432040Z",
     "iopub.status.busy": "2021-07-08T12:47:15.424783Z",
     "iopub.status.idle": "2021-07-08T12:47:15.437339Z",
     "shell.execute_reply": "2021-07-08T12:47:15.437833Z",
     "shell.execute_reply.started": "2021-07-08T12:46:06.715590Z"
    },
    "papermill": {
     "duration": 0.178411,
     "end_time": "2021-07-08T12:47:15.438018",
     "exception": false,
     "start_time": "2021-07-08T12:47:15.259607",
     "status": "completed"
    },
    "tags": []
   },
   "outputs": [
    {
     "data": {
      "text/html": [
       "<div>\n",
       "<style scoped>\n",
       "    .dataframe tbody tr th:only-of-type {\n",
       "        vertical-align: middle;\n",
       "    }\n",
       "\n",
       "    .dataframe tbody tr th {\n",
       "        vertical-align: top;\n",
       "    }\n",
       "\n",
       "    .dataframe thead th {\n",
       "        text-align: right;\n",
       "    }\n",
       "</style>\n",
       "<table border=\"1\" class=\"dataframe\">\n",
       "  <thead>\n",
       "    <tr style=\"text-align: right;\">\n",
       "      <th></th>\n",
       "      <th>Id</th>\n",
       "      <th>MSSubClass</th>\n",
       "      <th>MSZoning</th>\n",
       "      <th>LotFrontage</th>\n",
       "      <th>LotArea</th>\n",
       "      <th>Street</th>\n",
       "      <th>LotShape</th>\n",
       "      <th>LandContour</th>\n",
       "      <th>Utilities</th>\n",
       "      <th>LotConfig</th>\n",
       "      <th>...</th>\n",
       "      <th>EnclosedPorch</th>\n",
       "      <th>3SsnPorch</th>\n",
       "      <th>ScreenPorch</th>\n",
       "      <th>PoolArea</th>\n",
       "      <th>Fence</th>\n",
       "      <th>MiscVal</th>\n",
       "      <th>MoSold</th>\n",
       "      <th>YrSold</th>\n",
       "      <th>SaleType</th>\n",
       "      <th>SaleCondition</th>\n",
       "    </tr>\n",
       "  </thead>\n",
       "  <tbody>\n",
       "    <tr>\n",
       "      <th>0</th>\n",
       "      <td>1461</td>\n",
       "      <td>20</td>\n",
       "      <td>RH</td>\n",
       "      <td>80.0</td>\n",
       "      <td>11622</td>\n",
       "      <td>Pave</td>\n",
       "      <td>Reg</td>\n",
       "      <td>Lvl</td>\n",
       "      <td>AllPub</td>\n",
       "      <td>Inside</td>\n",
       "      <td>...</td>\n",
       "      <td>0</td>\n",
       "      <td>0</td>\n",
       "      <td>120</td>\n",
       "      <td>0</td>\n",
       "      <td>MnPrv</td>\n",
       "      <td>0</td>\n",
       "      <td>6</td>\n",
       "      <td>2010</td>\n",
       "      <td>WD</td>\n",
       "      <td>Normal</td>\n",
       "    </tr>\n",
       "    <tr>\n",
       "      <th>1</th>\n",
       "      <td>1462</td>\n",
       "      <td>20</td>\n",
       "      <td>RL</td>\n",
       "      <td>81.0</td>\n",
       "      <td>14267</td>\n",
       "      <td>Pave</td>\n",
       "      <td>IR1</td>\n",
       "      <td>Lvl</td>\n",
       "      <td>AllPub</td>\n",
       "      <td>Corner</td>\n",
       "      <td>...</td>\n",
       "      <td>0</td>\n",
       "      <td>0</td>\n",
       "      <td>0</td>\n",
       "      <td>0</td>\n",
       "      <td>NaN</td>\n",
       "      <td>12500</td>\n",
       "      <td>6</td>\n",
       "      <td>2010</td>\n",
       "      <td>WD</td>\n",
       "      <td>Normal</td>\n",
       "    </tr>\n",
       "    <tr>\n",
       "      <th>2</th>\n",
       "      <td>1463</td>\n",
       "      <td>60</td>\n",
       "      <td>RL</td>\n",
       "      <td>74.0</td>\n",
       "      <td>13830</td>\n",
       "      <td>Pave</td>\n",
       "      <td>IR1</td>\n",
       "      <td>Lvl</td>\n",
       "      <td>AllPub</td>\n",
       "      <td>Inside</td>\n",
       "      <td>...</td>\n",
       "      <td>0</td>\n",
       "      <td>0</td>\n",
       "      <td>0</td>\n",
       "      <td>0</td>\n",
       "      <td>MnPrv</td>\n",
       "      <td>0</td>\n",
       "      <td>3</td>\n",
       "      <td>2010</td>\n",
       "      <td>WD</td>\n",
       "      <td>Normal</td>\n",
       "    </tr>\n",
       "    <tr>\n",
       "      <th>3</th>\n",
       "      <td>1464</td>\n",
       "      <td>60</td>\n",
       "      <td>RL</td>\n",
       "      <td>78.0</td>\n",
       "      <td>9978</td>\n",
       "      <td>Pave</td>\n",
       "      <td>IR1</td>\n",
       "      <td>Lvl</td>\n",
       "      <td>AllPub</td>\n",
       "      <td>Inside</td>\n",
       "      <td>...</td>\n",
       "      <td>0</td>\n",
       "      <td>0</td>\n",
       "      <td>0</td>\n",
       "      <td>0</td>\n",
       "      <td>NaN</td>\n",
       "      <td>0</td>\n",
       "      <td>6</td>\n",
       "      <td>2010</td>\n",
       "      <td>WD</td>\n",
       "      <td>Normal</td>\n",
       "    </tr>\n",
       "    <tr>\n",
       "      <th>4</th>\n",
       "      <td>1465</td>\n",
       "      <td>120</td>\n",
       "      <td>RL</td>\n",
       "      <td>43.0</td>\n",
       "      <td>5005</td>\n",
       "      <td>Pave</td>\n",
       "      <td>IR1</td>\n",
       "      <td>HLS</td>\n",
       "      <td>AllPub</td>\n",
       "      <td>Inside</td>\n",
       "      <td>...</td>\n",
       "      <td>0</td>\n",
       "      <td>0</td>\n",
       "      <td>144</td>\n",
       "      <td>0</td>\n",
       "      <td>NaN</td>\n",
       "      <td>0</td>\n",
       "      <td>1</td>\n",
       "      <td>2010</td>\n",
       "      <td>WD</td>\n",
       "      <td>Normal</td>\n",
       "    </tr>\n",
       "  </tbody>\n",
       "</table>\n",
       "<p>5 rows × 77 columns</p>\n",
       "</div>"
      ],
      "text/plain": [
       "     Id  MSSubClass MSZoning  LotFrontage  LotArea Street LotShape  \\\n",
       "0  1461          20       RH         80.0    11622   Pave      Reg   \n",
       "1  1462          20       RL         81.0    14267   Pave      IR1   \n",
       "2  1463          60       RL         74.0    13830   Pave      IR1   \n",
       "3  1464          60       RL         78.0     9978   Pave      IR1   \n",
       "4  1465         120       RL         43.0     5005   Pave      IR1   \n",
       "\n",
       "  LandContour Utilities LotConfig  ... EnclosedPorch 3SsnPorch ScreenPorch  \\\n",
       "0         Lvl    AllPub    Inside  ...             0         0         120   \n",
       "1         Lvl    AllPub    Corner  ...             0         0           0   \n",
       "2         Lvl    AllPub    Inside  ...             0         0           0   \n",
       "3         Lvl    AllPub    Inside  ...             0         0           0   \n",
       "4         HLS    AllPub    Inside  ...             0         0         144   \n",
       "\n",
       "  PoolArea  Fence MiscVal  MoSold  YrSold  SaleType  SaleCondition  \n",
       "0        0  MnPrv       0       6    2010        WD         Normal  \n",
       "1        0    NaN   12500       6    2010        WD         Normal  \n",
       "2        0  MnPrv       0       3    2010        WD         Normal  \n",
       "3        0    NaN       0       6    2010        WD         Normal  \n",
       "4        0    NaN       0       1    2010        WD         Normal  \n",
       "\n",
       "[5 rows x 77 columns]"
      ]
     },
     "execution_count": 174,
     "metadata": {},
     "output_type": "execute_result"
    }
   ],
   "source": [
    "test_data.head()"
   ]
  },
  {
   "cell_type": "code",
   "execution_count": 175,
   "metadata": {
    "execution": {
     "iopub.execute_input": "2021-07-08T12:47:15.705801Z",
     "iopub.status.busy": "2021-07-08T12:47:15.704753Z",
     "iopub.status.idle": "2021-07-08T12:47:15.707110Z",
     "shell.execute_reply": "2021-07-08T12:47:15.707676Z",
     "shell.execute_reply.started": "2021-07-08T12:46:06.772230Z"
    },
    "papermill": {
     "duration": 0.145528,
     "end_time": "2021-07-08T12:47:15.707835",
     "exception": false,
     "start_time": "2021-07-08T12:47:15.562307",
     "status": "completed"
    },
    "tags": []
   },
   "outputs": [],
   "source": [
    "test_data['LotFrontage'].fillna(test_data['LotFrontage'].mean(), inplace=True)\n",
    "\n",
    "test_data['MasVnrType'].fillna('None', inplace=True)\n",
    "\n",
    "test_data['MasVnrArea'].fillna(test_data['MasVnrArea'].mean(), inplace=True)\n",
    "\n",
    "test_data['BsmtQual'].fillna('TA', inplace=True)\n",
    "\n",
    "test_data['BsmtCond'].fillna('TA', inplace=True)\n",
    "\n",
    "test_data['BsmtExposure'].fillna('No', inplace=True)\n",
    "\n",
    "test_data['BsmtFinType1'].fillna('Unf', inplace=True)\n",
    "\n",
    "test_data['BsmtFinType2'].fillna('Unf', inplace=True)\n",
    "\n",
    "test_data['Electrical'].fillna('SBrkr', inplace=True)\n",
    "\n",
    "test_data['FireplaceQu'].fillna('None', inplace=True)\n",
    "\n",
    "val = test_data['GarageType'].unique()[0]\n",
    "test_data['GarageType'].fillna(val, inplace=True)\n",
    "\n",
    "test_data['GarageYrBlt'].fillna('2005.0', inplace= True)\n",
    "\n",
    "test_data['GarageFinish'].fillna(test_data['GarageFinish'].unique()[1], inplace=True)\n",
    "\n",
    "test_data['GarageQual'].fillna(test_data['GarageQual'].unique()[0], inplace=True)\n",
    "\n",
    "test_data['GarageCond'].fillna(test_data['GarageCond'].unique()[0], inplace=True)\n",
    "\n",
    "test_data['Fence'].fillna('None', inplace=True)"
   ]
  },
  {
   "cell_type": "code",
   "execution_count": 81,
   "metadata": {
    "execution": {
     "iopub.execute_input": "2021-07-08T12:47:15.960284Z",
     "iopub.status.busy": "2021-07-08T12:47:15.959228Z",
     "iopub.status.idle": "2021-07-08T12:47:15.973647Z",
     "shell.execute_reply": "2021-07-08T12:47:15.974146Z",
     "shell.execute_reply.started": "2021-07-08T12:46:06.793214Z"
    },
    "papermill": {
     "duration": 0.142987,
     "end_time": "2021-07-08T12:47:15.974313",
     "exception": false,
     "start_time": "2021-07-08T12:47:15.831326",
     "status": "completed"
    },
    "tags": []
   },
   "outputs": [
    {
     "data": {
      "text/plain": [
       "Id               0\n",
       "MSSubClass       0\n",
       "MSZoning         0\n",
       "LotFrontage      0\n",
       "LotArea          0\n",
       "Street           0\n",
       "LotShape         0\n",
       "LandContour      0\n",
       "Utilities        0\n",
       "LotConfig        0\n",
       "LandSlope        0\n",
       "Neighborhood     0\n",
       "Condition1       0\n",
       "Condition2       0\n",
       "BldgType         0\n",
       "HouseStyle       0\n",
       "OverallQual      0\n",
       "OverallCond      0\n",
       "YearBuilt        0\n",
       "YearRemodAdd     0\n",
       "RoofStyle        0\n",
       "RoofMatl         0\n",
       "Exterior1st      0\n",
       "Exterior2nd      0\n",
       "MasVnrType       0\n",
       "MasVnrArea       0\n",
       "ExterQual        0\n",
       "ExterCond        0\n",
       "Foundation       0\n",
       "BsmtQual         0\n",
       "BsmtCond         0\n",
       "BsmtExposure     0\n",
       "BsmtFinType1     0\n",
       "BsmtFinSF1       1\n",
       "BsmtFinType2     0\n",
       "BsmtFinSF2       1\n",
       "BsmtUnfSF        1\n",
       "TotalBsmtSF      1\n",
       "Heating          0\n",
       "HeatingQC        0\n",
       "CentralAir       0\n",
       "Electrical       0\n",
       "1stFlrSF         0\n",
       "2ndFlrSF         0\n",
       "LowQualFinSF     0\n",
       "GrLivArea        0\n",
       "BsmtFullBath     2\n",
       "BsmtHalfBath     2\n",
       "FullBath         0\n",
       "HalfBath         0\n",
       "BedroomAbvGr     0\n",
       "KitchenAbvGr     0\n",
       "KitchenQual      0\n",
       "TotRmsAbvGrd     0\n",
       "Functional       0\n",
       "Fireplaces       0\n",
       "FireplaceQu      0\n",
       "GarageType       0\n",
       "GarageYrBlt      0\n",
       "GarageFinish     0\n",
       "GarageCars       1\n",
       "GarageArea       1\n",
       "GarageQual       0\n",
       "GarageCond       0\n",
       "PavedDrive       0\n",
       "WoodDeckSF       0\n",
       "OpenPorchSF      0\n",
       "EnclosedPorch    0\n",
       "3SsnPorch        0\n",
       "ScreenPorch      0\n",
       "PoolArea         0\n",
       "Fence            0\n",
       "MiscVal          0\n",
       "MoSold           0\n",
       "YrSold           0\n",
       "SaleType         0\n",
       "SaleCondition    0\n",
       "dtype: int64"
      ]
     },
     "execution_count": 81,
     "metadata": {},
     "output_type": "execute_result"
    }
   ],
   "source": [
    "test_data.isnull().sum()"
   ]
  },
  {
   "cell_type": "code",
   "execution_count": 176,
   "metadata": {
    "execution": {
     "iopub.execute_input": "2021-07-08T12:47:16.226327Z",
     "iopub.status.busy": "2021-07-08T12:47:16.225350Z",
     "iopub.status.idle": "2021-07-08T12:47:16.246135Z",
     "shell.execute_reply": "2021-07-08T12:47:16.246623Z",
     "shell.execute_reply.started": "2021-07-08T12:46:06.813660Z"
    },
    "papermill": {
     "duration": 0.148219,
     "end_time": "2021-07-08T12:47:16.246784",
     "exception": false,
     "start_time": "2021-07-08T12:47:16.098565",
     "status": "completed"
    },
    "tags": []
   },
   "outputs": [
    {
     "data": {
      "text/plain": [
       "['MSZoning',\n",
       " 'Utilities',\n",
       " 'Exterior1st',\n",
       " 'Exterior2nd',\n",
       " 'BsmtFinSF1',\n",
       " 'BsmtFinSF2',\n",
       " 'BsmtUnfSF',\n",
       " 'TotalBsmtSF',\n",
       " 'BsmtFullBath',\n",
       " 'BsmtHalfBath',\n",
       " 'KitchenQual',\n",
       " 'Functional',\n",
       " 'GarageCars',\n",
       " 'GarageArea',\n",
       " 'SaleType']"
      ]
     },
     "execution_count": 176,
     "metadata": {},
     "output_type": "execute_result"
    }
   ],
   "source": [
    "test_null = [i for i in test_data.columns if test_data[i].isnull().sum() > 0]\n",
    "test_null"
   ]
  },
  {
   "cell_type": "code",
   "execution_count": 177,
   "metadata": {
    "execution": {
     "iopub.execute_input": "2021-07-08T12:47:16.499555Z",
     "iopub.status.busy": "2021-07-08T12:47:16.498890Z",
     "iopub.status.idle": "2021-07-08T12:47:16.507684Z",
     "shell.execute_reply": "2021-07-08T12:47:16.508150Z",
     "shell.execute_reply.started": "2021-07-08T12:46:06.840359Z"
    },
    "papermill": {
     "duration": 0.136815,
     "end_time": "2021-07-08T12:47:16.508319",
     "exception": false,
     "start_time": "2021-07-08T12:47:16.371504",
     "status": "completed"
    },
    "tags": []
   },
   "outputs": [
    {
     "data": {
      "text/plain": [
       "MSZoning         object\n",
       "Utilities        object\n",
       "Exterior1st      object\n",
       "Exterior2nd      object\n",
       "BsmtFinSF1      float64\n",
       "BsmtFinSF2      float64\n",
       "BsmtUnfSF       float64\n",
       "TotalBsmtSF     float64\n",
       "BsmtFullBath    float64\n",
       "BsmtHalfBath    float64\n",
       "KitchenQual      object\n",
       "Functional       object\n",
       "GarageCars      float64\n",
       "GarageArea      float64\n",
       "SaleType         object\n",
       "dtype: object"
      ]
     },
     "execution_count": 177,
     "metadata": {},
     "output_type": "execute_result"
    }
   ],
   "source": [
    "test_data[test_null].dtypes"
   ]
  },
  {
   "cell_type": "code",
   "execution_count": null,
   "metadata": {
    "execution": {
     "iopub.execute_input": "2021-07-08T12:47:16.764267Z",
     "iopub.status.busy": "2021-07-08T12:47:16.762834Z",
     "iopub.status.idle": "2021-07-08T12:47:16.769324Z",
     "shell.execute_reply": "2021-07-08T12:47:16.768706Z",
     "shell.execute_reply.started": "2021-07-08T12:46:06.850607Z"
    },
    "papermill": {
     "duration": 0.135623,
     "end_time": "2021-07-08T12:47:16.769475",
     "exception": false,
     "start_time": "2021-07-08T12:47:16.633852",
     "status": "completed"
    },
    "tags": []
   },
   "outputs": [],
   "source": []
  },
  {
   "cell_type": "code",
   "execution_count": 178,
   "metadata": {
    "execution": {
     "iopub.execute_input": "2021-07-08T12:47:17.056514Z",
     "iopub.status.busy": "2021-07-08T12:47:17.055786Z",
     "iopub.status.idle": "2021-07-08T12:47:17.067859Z",
     "shell.execute_reply": "2021-07-08T12:47:17.068402Z",
     "shell.execute_reply.started": "2021-07-08T12:46:06.863350Z"
    },
    "papermill": {
     "duration": 0.157571,
     "end_time": "2021-07-08T12:47:17.068576",
     "exception": false,
     "start_time": "2021-07-08T12:47:16.911005",
     "status": "completed"
    },
    "tags": []
   },
   "outputs": [
    {
     "data": {
      "text/plain": [
       "Id               0\n",
       "MSSubClass       0\n",
       "MSZoning         4\n",
       "LotFrontage      0\n",
       "LotArea          0\n",
       "Street           0\n",
       "LotShape         0\n",
       "LandContour      0\n",
       "Utilities        2\n",
       "LotConfig        0\n",
       "LandSlope        0\n",
       "Neighborhood     0\n",
       "Condition1       0\n",
       "Condition2       0\n",
       "BldgType         0\n",
       "HouseStyle       0\n",
       "OverallQual      0\n",
       "OverallCond      0\n",
       "YearBuilt        0\n",
       "YearRemodAdd     0\n",
       "RoofStyle        0\n",
       "RoofMatl         0\n",
       "Exterior1st      1\n",
       "Exterior2nd      1\n",
       "MasVnrType       0\n",
       "MasVnrArea       0\n",
       "ExterQual        0\n",
       "ExterCond        0\n",
       "Foundation       0\n",
       "BsmtQual         0\n",
       "                ..\n",
       "BsmtHalfBath     2\n",
       "FullBath         0\n",
       "HalfBath         0\n",
       "BedroomAbvGr     0\n",
       "KitchenAbvGr     0\n",
       "KitchenQual      1\n",
       "TotRmsAbvGrd     0\n",
       "Functional       2\n",
       "Fireplaces       0\n",
       "FireplaceQu      0\n",
       "GarageType       0\n",
       "GarageYrBlt      0\n",
       "GarageFinish     0\n",
       "GarageCars       1\n",
       "GarageArea       1\n",
       "GarageQual       0\n",
       "GarageCond       0\n",
       "PavedDrive       0\n",
       "WoodDeckSF       0\n",
       "OpenPorchSF      0\n",
       "EnclosedPorch    0\n",
       "3SsnPorch        0\n",
       "ScreenPorch      0\n",
       "PoolArea         0\n",
       "Fence            0\n",
       "MiscVal          0\n",
       "MoSold           0\n",
       "YrSold           0\n",
       "SaleType         1\n",
       "SaleCondition    0\n",
       "Length: 77, dtype: int64"
      ]
     },
     "execution_count": 178,
     "metadata": {},
     "output_type": "execute_result"
    }
   ],
   "source": [
    "test_data.isnull().sum()"
   ]
  },
  {
   "cell_type": "code",
   "execution_count": 179,
   "metadata": {
    "execution": {
     "iopub.execute_input": "2021-07-08T12:47:17.341665Z",
     "iopub.status.busy": "2021-07-08T12:47:17.340750Z",
     "iopub.status.idle": "2021-07-08T12:47:17.344347Z",
     "shell.execute_reply": "2021-07-08T12:47:17.344809Z",
     "shell.execute_reply.started": "2021-07-08T12:46:06.880603Z"
    },
    "papermill": {
     "duration": 0.136626,
     "end_time": "2021-07-08T12:47:17.344989",
     "exception": false,
     "start_time": "2021-07-08T12:47:17.208363",
     "status": "completed"
    },
    "tags": []
   },
   "outputs": [
    {
     "data": {
      "text/plain": [
       "(1459, 77)"
      ]
     },
     "execution_count": 179,
     "metadata": {},
     "output_type": "execute_result"
    }
   ],
   "source": [
    "test_data.shape"
   ]
  },
  {
   "cell_type": "code",
   "execution_count": null,
   "metadata": {
    "execution": {
     "iopub.execute_input": "2021-07-08T12:47:17.847797Z",
     "iopub.status.busy": "2021-07-08T12:47:17.846845Z",
     "iopub.status.idle": "2021-07-08T12:47:17.859080Z",
     "shell.execute_reply": "2021-07-08T12:47:17.859526Z",
     "shell.execute_reply.started": "2021-07-08T12:46:06.888118Z"
    },
    "papermill": {
     "duration": 0.138624,
     "end_time": "2021-07-08T12:47:17.859705",
     "exception": false,
     "start_time": "2021-07-08T12:47:17.721081",
     "status": "completed"
    },
    "tags": []
   },
   "outputs": [],
   "source": []
  },
  {
   "cell_type": "code",
   "execution_count": null,
   "metadata": {
    "execution": {
     "iopub.execute_input": "2021-07-08T12:47:18.106616Z",
     "iopub.status.busy": "2021-07-08T12:47:18.105728Z",
     "iopub.status.idle": "2021-07-08T12:47:18.160811Z",
     "shell.execute_reply": "2021-07-08T12:47:18.161252Z",
     "shell.execute_reply.started": "2021-07-08T12:46:06.907415Z"
    },
    "papermill": {
     "duration": 0.179186,
     "end_time": "2021-07-08T12:47:18.161417",
     "exception": false,
     "start_time": "2021-07-08T12:47:17.982231",
     "status": "completed"
    },
    "tags": []
   },
   "outputs": [],
   "source": []
  },
  {
   "cell_type": "code",
   "execution_count": null,
   "metadata": {
    "execution": {
     "iopub.execute_input": "2021-07-08T12:47:18.427594Z",
     "iopub.status.busy": "2021-07-08T12:47:18.426663Z",
     "iopub.status.idle": "2021-07-08T12:47:18.971740Z",
     "shell.execute_reply": "2021-07-08T12:47:18.972258Z",
     "shell.execute_reply.started": "2021-07-08T12:46:06.966502Z"
    },
    "papermill": {
     "duration": 0.681927,
     "end_time": "2021-07-08T12:47:18.972452",
     "exception": false,
     "start_time": "2021-07-08T12:47:18.290525",
     "status": "completed"
    },
    "tags": []
   },
   "outputs": [],
   "source": []
  },
  {
   "cell_type": "code",
   "execution_count": null,
   "metadata": {
    "execution": {
     "iopub.execute_input": "2021-07-08T12:47:19.481111Z",
     "iopub.status.busy": "2021-07-08T12:47:19.480483Z",
     "iopub.status.idle": "2021-07-08T12:47:19.514678Z",
     "shell.execute_reply": "2021-07-08T12:47:19.514135Z",
     "shell.execute_reply.started": "2021-07-08T12:46:07.275650Z"
    },
    "papermill": {
     "duration": 0.162899,
     "end_time": "2021-07-08T12:47:19.514823",
     "exception": false,
     "start_time": "2021-07-08T12:47:19.351924",
     "status": "completed"
    },
    "tags": []
   },
   "outputs": [],
   "source": []
  },
  {
   "cell_type": "code",
   "execution_count": null,
   "metadata": {
    "papermill": {
     "duration": 0.12467,
     "end_time": "2021-07-08T12:47:19.764750",
     "exception": false,
     "start_time": "2021-07-08T12:47:19.640080",
     "status": "completed"
    },
    "tags": []
   },
   "outputs": [],
   "source": []
  },
  {
   "cell_type": "code",
   "execution_count": null,
   "metadata": {},
   "outputs": [],
   "source": []
  }
 ],
 "metadata": {
  "kernelspec": {
   "display_name": "Python 3",
   "language": "python",
   "name": "python3"
  },
  "language_info": {
   "codemirror_mode": {
    "name": "ipython",
    "version": 3
   },
   "file_extension": ".py",
   "mimetype": "text/x-python",
   "name": "python",
   "nbconvert_exporter": "python",
   "pygments_lexer": "ipython3",
   "version": "3.7.3"
  },
  "papermill": {
   "default_parameters": {},
   "duration": 44.05381,
   "end_time": "2021-07-08T12:47:20.598650",
   "environment_variables": {},
   "exception": null,
   "input_path": "__notebook__.ipynb",
   "output_path": "__notebook__.ipynb",
   "parameters": {},
   "start_time": "2021-07-08T12:46:36.544840",
   "version": "2.3.3"
  }
 },
 "nbformat": 4,
 "nbformat_minor": 5
}
